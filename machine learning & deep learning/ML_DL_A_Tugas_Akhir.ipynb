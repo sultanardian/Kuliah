{
  "nbformat": 4,
  "nbformat_minor": 0,
  "metadata": {
    "kernelspec": {
      "display_name": "Python 3",
      "language": "python",
      "name": "python3"
    },
    "language_info": {
      "codemirror_mode": {
        "name": "ipython",
        "version": 3
      },
      "file_extension": ".py",
      "mimetype": "text/x-python",
      "name": "python",
      "nbconvert_exporter": "python",
      "pygments_lexer": "ipython3",
      "version": "3.8.8"
    },
    "colab": {
      "name": "ML DL A - Tugas Akhir.ipynb",
      "provenance": [],
      "collapsed_sections": [],
      "include_colab_link": true
    }
  },
  "cells": [
    {
      "cell_type": "markdown",
      "metadata": {
        "id": "view-in-github",
        "colab_type": "text"
      },
      "source": [
        "<a href=\"https://colab.research.google.com/github/sultanardian/kuliah/blob/main/machine%20learning%20%26%20deep%20learning/ML_DL_A_Tugas_Akhir.ipynb\" target=\"_parent\"><img src=\"https://colab.research.google.com/assets/colab-badge.svg\" alt=\"Open In Colab\"/></a>"
      ]
    },
    {
      "cell_type": "markdown",
      "metadata": {
        "id": "ewht_Y7nllxA"
      },
      "source": [
        "# Final Project\n",
        "\n",
        "## Predict the Plant-Nitrogen Deficiency\n",
        "\n",
        "References:\n",
        "1. Improving nitrogen assessment with an RGB camera across uncertain natural light from above-canopy measurements\n",
        "Authors: Bayu Taruna Widjaja Putra, Peeyush Soni\n",
        "Journal: Precision Agriculture\n",
        "Publisher: SPRINGER; Q1/IF 4.454\n",
        "DOI: https://doi.org/10.1007/s11119-019-09656-8\n",
        "\n",
        "2. Dataset of chlorophyll content estimation of Coffea Canephora using Red and Near-Infrared consumer-grade camera\n",
        "Authors: Bayu Taruna Widjaja Putra, Peeyush Soni\n",
        "Journal: Data in Brief\n",
        "Publisher: ELSEVIER; Cite Score / SJR: 0.7 / 0.341 /Q1\n",
        "DOI: https://doi.org/10.1016/j.dib.2018.10.035\n",
        "(Dataset for this Project is available in 2nd paper)\n",
        "\n",
        "Dataset information:\n",
        "1. 600 Images were taken using Modified camera with longpass filter 665nm\n",
        "2. RGB bands, Vegetation indices(VIs) obtained using Camera (unsupervised) and Spectrometer (unsupervised) were provided\n",
        "\n",
        "GIVEN: a. RGB Value (obtained from Modified camera)\n",
        "       b. SPAD value\n",
        "       c. N value\n",
        "       d. VIs obtained from Modified Camera\n",
        "ASKED: 1. Provide the solution using Machine Learning in estimating N status from RGB values (Use: KNN, NAIVE BAYES, DECISION TREE, RANDOM FORESTS, LOGISTICS REGRESSION, NEURAL NETWORKS)\n",
        "       2. Compare the result with unsupervised VIs values\n",
        "       \n",
        "       "
      ]
    },
    {
      "cell_type": "markdown",
      "metadata": {
        "id": "TP1uVvhillxe"
      },
      "source": [
        "## Let's begin: prepare your data\n",
        "\n"
      ]
    },
    {
      "cell_type": "code",
      "metadata": {
        "colab": {
          "base_uri": "https://localhost:8080/"
        },
        "id": "-_e--oodfsr4",
        "outputId": "bd4215fe-0369-4050-cb5e-db75da9e1728"
      },
      "source": [
        "from google.colab import drive\n",
        "drive.mount('/content/drive')"
      ],
      "execution_count": null,
      "outputs": [
        {
          "output_type": "stream",
          "text": [
            "Mounted at /content/drive\n"
          ],
          "name": "stdout"
        }
      ]
    },
    {
      "cell_type": "code",
      "metadata": {
        "id": "HAvIBX2Hllxl",
        "colab": {
          "base_uri": "https://localhost:8080/",
          "height": 204
        },
        "outputId": "9db5fc07-3ef7-40a4-9799-b4540d034a4f"
      },
      "source": [
        "import pandas as pd\n",
        "import numpy as np\n",
        "from IPython.display import HTML, display\n",
        "\n",
        "# all_data = pd.ExcelFile('drive/MyDrive/Dataset/dataset.xls')\n",
        "camera_data = pd.read_excel('drive/MyDrive/Dataset/dataset.xls', sheet_name=0)\n",
        "camera_data.head()"
      ],
      "execution_count": null,
      "outputs": [
        {
          "output_type": "execute_result",
          "data": {
            "text/html": [
              "<div>\n",
              "<style scoped>\n",
              "    .dataframe tbody tr th:only-of-type {\n",
              "        vertical-align: middle;\n",
              "    }\n",
              "\n",
              "    .dataframe tbody tr th {\n",
              "        vertical-align: top;\n",
              "    }\n",
              "\n",
              "    .dataframe thead th {\n",
              "        text-align: right;\n",
              "    }\n",
              "</style>\n",
              "<table border=\"1\" class=\"dataframe\">\n",
              "  <thead>\n",
              "    <tr style=\"text-align: right;\">\n",
              "      <th></th>\n",
              "      <th>R</th>\n",
              "      <th>G</th>\n",
              "      <th>B</th>\n",
              "      <th>SPAD</th>\n",
              "      <th>Nitorgen</th>\n",
              "      <th>Category</th>\n",
              "      <th>Normalized R</th>\n",
              "      <th>Normalized G</th>\n",
              "      <th>Normalized B</th>\n",
              "      <th>SR B/R</th>\n",
              "      <th>NDVI (cam)</th>\n",
              "      <th>Excess NIRB</th>\n",
              "    </tr>\n",
              "  </thead>\n",
              "  <tbody>\n",
              "    <tr>\n",
              "      <th>0</th>\n",
              "      <td>148.250692</td>\n",
              "      <td>179.049049</td>\n",
              "      <td>207.690971</td>\n",
              "      <td>65.285056</td>\n",
              "      <td>3.441078</td>\n",
              "      <td>High</td>\n",
              "      <td>0.277109</td>\n",
              "      <td>0.334677</td>\n",
              "      <td>0.388214</td>\n",
              "      <td>59.440279</td>\n",
              "      <td>0.166994</td>\n",
              "      <td>88.082201</td>\n",
              "    </tr>\n",
              "    <tr>\n",
              "      <th>1</th>\n",
              "      <td>136.581287</td>\n",
              "      <td>168.443204</td>\n",
              "      <td>197.892366</td>\n",
              "      <td>68.834642</td>\n",
              "      <td>3.557860</td>\n",
              "      <td>High</td>\n",
              "      <td>0.271578</td>\n",
              "      <td>0.334933</td>\n",
              "      <td>0.393489</td>\n",
              "      <td>61.311079</td>\n",
              "      <td>0.183306</td>\n",
              "      <td>90.760241</td>\n",
              "    </tr>\n",
              "    <tr>\n",
              "      <th>2</th>\n",
              "      <td>138.817423</td>\n",
              "      <td>167.905846</td>\n",
              "      <td>195.125772</td>\n",
              "      <td>65.488399</td>\n",
              "      <td>3.447768</td>\n",
              "      <td>High</td>\n",
              "      <td>0.276612</td>\n",
              "      <td>0.334574</td>\n",
              "      <td>0.388814</td>\n",
              "      <td>56.308349</td>\n",
              "      <td>0.168617</td>\n",
              "      <td>83.528275</td>\n",
              "    </tr>\n",
              "    <tr>\n",
              "      <th>3</th>\n",
              "      <td>147.430079</td>\n",
              "      <td>178.955346</td>\n",
              "      <td>209.400353</td>\n",
              "      <td>64.500763</td>\n",
              "      <td>3.415275</td>\n",
              "      <td>High</td>\n",
              "      <td>0.275166</td>\n",
              "      <td>0.334005</td>\n",
              "      <td>0.390829</td>\n",
              "      <td>61.970274</td>\n",
              "      <td>0.173669</td>\n",
              "      <td>92.415281</td>\n",
              "    </tr>\n",
              "    <tr>\n",
              "      <th>4</th>\n",
              "      <td>142.520233</td>\n",
              "      <td>175.684288</td>\n",
              "      <td>207.991093</td>\n",
              "      <td>57.482832</td>\n",
              "      <td>3.184385</td>\n",
              "      <td>Normal</td>\n",
              "      <td>0.270850</td>\n",
              "      <td>0.333876</td>\n",
              "      <td>0.395273</td>\n",
              "      <td>65.470859</td>\n",
              "      <td>0.186787</td>\n",
              "      <td>97.777664</td>\n",
              "    </tr>\n",
              "  </tbody>\n",
              "</table>\n",
              "</div>"
            ],
            "text/plain": [
              "            R           G           B  ...     SR B/R  NDVI (cam) Excess NIRB\n",
              "0  148.250692  179.049049  207.690971  ...  59.440279    0.166994   88.082201\n",
              "1  136.581287  168.443204  197.892366  ...  61.311079    0.183306   90.760241\n",
              "2  138.817423  167.905846  195.125772  ...  56.308349    0.168617   83.528275\n",
              "3  147.430079  178.955346  209.400353  ...  61.970274    0.173669   92.415281\n",
              "4  142.520233  175.684288  207.991093  ...  65.470859    0.186787   97.777664\n",
              "\n",
              "[5 rows x 12 columns]"
            ]
          },
          "metadata": {
            "tags": []
          },
          "execution_count": 3
        }
      ]
    },
    {
      "cell_type": "markdown",
      "metadata": {
        "id": "8-dCAIqollxo"
      },
      "source": [
        "Make sure you use the optional parmaters in read_csv to convert missing data (indicated by a ?) into NaN, and to add the appropriate column names (BI_RADS, age, shape, margin, density, and severity):"
      ]
    },
    {
      "cell_type": "markdown",
      "metadata": {
        "id": "ZIyi_rewllxp"
      },
      "source": [
        "Evaluate whether the data needs cleaning; your model is only as good as the data it's given. Hint: use describe() on the dataframe."
      ]
    },
    {
      "cell_type": "code",
      "metadata": {
        "id": "0ZH3l-DLllxr",
        "colab": {
          "base_uri": "https://localhost:8080/",
          "height": 297
        },
        "outputId": "85eb42b4-b7f3-4e06-b313-8a1f6115424c"
      },
      "source": [
        "camera_data.describe()"
      ],
      "execution_count": null,
      "outputs": [
        {
          "output_type": "execute_result",
          "data": {
            "text/html": [
              "<div>\n",
              "<style scoped>\n",
              "    .dataframe tbody tr th:only-of-type {\n",
              "        vertical-align: middle;\n",
              "    }\n",
              "\n",
              "    .dataframe tbody tr th {\n",
              "        vertical-align: top;\n",
              "    }\n",
              "\n",
              "    .dataframe thead th {\n",
              "        text-align: right;\n",
              "    }\n",
              "</style>\n",
              "<table border=\"1\" class=\"dataframe\">\n",
              "  <thead>\n",
              "    <tr style=\"text-align: right;\">\n",
              "      <th></th>\n",
              "      <th>R</th>\n",
              "      <th>G</th>\n",
              "      <th>B</th>\n",
              "      <th>SPAD</th>\n",
              "      <th>Nitorgen</th>\n",
              "      <th>Normalized R</th>\n",
              "      <th>Normalized G</th>\n",
              "      <th>Normalized B</th>\n",
              "      <th>SR B/R</th>\n",
              "      <th>NDVI (cam)</th>\n",
              "      <th>Excess NIRB</th>\n",
              "    </tr>\n",
              "  </thead>\n",
              "  <tbody>\n",
              "    <tr>\n",
              "      <th>count</th>\n",
              "      <td>600.000000</td>\n",
              "      <td>600.000000</td>\n",
              "      <td>600.000000</td>\n",
              "      <td>600.000000</td>\n",
              "      <td>600.000000</td>\n",
              "      <td>600.000000</td>\n",
              "      <td>600.000000</td>\n",
              "      <td>600.000000</td>\n",
              "      <td>600.000000</td>\n",
              "      <td>600.000000</td>\n",
              "      <td>600.000000</td>\n",
              "    </tr>\n",
              "    <tr>\n",
              "      <th>mean</th>\n",
              "      <td>150.500387</td>\n",
              "      <td>177.821762</td>\n",
              "      <td>200.125957</td>\n",
              "      <td>45.334192</td>\n",
              "      <td>2.784695</td>\n",
              "      <td>0.284715</td>\n",
              "      <td>0.336514</td>\n",
              "      <td>0.378771</td>\n",
              "      <td>49.625569</td>\n",
              "      <td>0.141727</td>\n",
              "      <td>71.929764</td>\n",
              "    </tr>\n",
              "    <tr>\n",
              "      <th>std</th>\n",
              "      <td>8.776726</td>\n",
              "      <td>8.271203</td>\n",
              "      <td>9.679605</td>\n",
              "      <td>12.712755</td>\n",
              "      <td>0.418250</td>\n",
              "      <td>0.006856</td>\n",
              "      <td>0.001338</td>\n",
              "      <td>0.007875</td>\n",
              "      <td>7.654312</td>\n",
              "      <td>0.021930</td>\n",
              "      <td>12.397594</td>\n",
              "    </tr>\n",
              "    <tr>\n",
              "      <th>min</th>\n",
              "      <td>118.056590</td>\n",
              "      <td>147.033575</td>\n",
              "      <td>172.239564</td>\n",
              "      <td>13.199405</td>\n",
              "      <td>1.727460</td>\n",
              "      <td>0.268136</td>\n",
              "      <td>0.332104</td>\n",
              "      <td>0.357375</td>\n",
              "      <td>27.828538</td>\n",
              "      <td>0.079318</td>\n",
              "      <td>39.932987</td>\n",
              "    </tr>\n",
              "    <tr>\n",
              "      <th>25%</th>\n",
              "      <td>145.097756</td>\n",
              "      <td>172.921318</td>\n",
              "      <td>193.341825</td>\n",
              "      <td>36.209840</td>\n",
              "      <td>2.484504</td>\n",
              "      <td>0.279907</td>\n",
              "      <td>0.335557</td>\n",
              "      <td>0.372858</td>\n",
              "      <td>43.971653</td>\n",
              "      <td>0.125584</td>\n",
              "      <td>62.593540</td>\n",
              "    </tr>\n",
              "    <tr>\n",
              "      <th>50%</th>\n",
              "      <td>150.255500</td>\n",
              "      <td>177.809798</td>\n",
              "      <td>199.244695</td>\n",
              "      <td>43.926998</td>\n",
              "      <td>2.738398</td>\n",
              "      <td>0.284966</td>\n",
              "      <td>0.336774</td>\n",
              "      <td>0.378066</td>\n",
              "      <td>49.183614</td>\n",
              "      <td>0.140520</td>\n",
              "      <td>70.690896</td>\n",
              "    </tr>\n",
              "    <tr>\n",
              "      <th>75%</th>\n",
              "      <td>155.743623</td>\n",
              "      <td>183.106732</td>\n",
              "      <td>207.016201</td>\n",
              "      <td>56.584216</td>\n",
              "      <td>3.154821</td>\n",
              "      <td>0.289631</td>\n",
              "      <td>0.337494</td>\n",
              "      <td>0.384683</td>\n",
              "      <td>55.934655</td>\n",
              "      <td>0.157602</td>\n",
              "      <td>82.172763</td>\n",
              "    </tr>\n",
              "    <tr>\n",
              "      <th>max</th>\n",
              "      <td>182.035192</td>\n",
              "      <td>205.115929</td>\n",
              "      <td>227.360392</td>\n",
              "      <td>68.939833</td>\n",
              "      <td>3.561321</td>\n",
              "      <td>0.305041</td>\n",
              "      <td>0.339400</td>\n",
              "      <td>0.399729</td>\n",
              "      <td>69.417563</td>\n",
              "      <td>0.197036</td>\n",
              "      <td>105.157736</td>\n",
              "    </tr>\n",
              "  </tbody>\n",
              "</table>\n",
              "</div>"
            ],
            "text/plain": [
              "                R           G           B  ...      SR B/R  NDVI (cam)  Excess NIRB\n",
              "count  600.000000  600.000000  600.000000  ...  600.000000  600.000000   600.000000\n",
              "mean   150.500387  177.821762  200.125957  ...   49.625569    0.141727    71.929764\n",
              "std      8.776726    8.271203    9.679605  ...    7.654312    0.021930    12.397594\n",
              "min    118.056590  147.033575  172.239564  ...   27.828538    0.079318    39.932987\n",
              "25%    145.097756  172.921318  193.341825  ...   43.971653    0.125584    62.593540\n",
              "50%    150.255500  177.809798  199.244695  ...   49.183614    0.140520    70.690896\n",
              "75%    155.743623  183.106732  207.016201  ...   55.934655    0.157602    82.172763\n",
              "max    182.035192  205.115929  227.360392  ...   69.417563    0.197036   105.157736\n",
              "\n",
              "[8 rows x 11 columns]"
            ]
          },
          "metadata": {
            "tags": []
          },
          "execution_count": 4
        }
      ]
    },
    {
      "cell_type": "markdown",
      "metadata": {
        "id": "svAkV2g-llxt"
      },
      "source": [
        "There are quite a few missing values in the data set. Before we just drop every row that's missing data, let's make sure we don't bias our data in doing so. Does there appear to be any sort of correlation to what sort of data has missing fields? If there were, we'd have to try and go back and fill that data in."
      ]
    },
    {
      "cell_type": "code",
      "metadata": {
        "id": "a0cQad02llxu",
        "colab": {
          "base_uri": "https://localhost:8080/",
          "height": 49
        },
        "outputId": "83a830d2-212a-4dea-b6e8-05bf380534eb"
      },
      "source": [
        "camera_data.loc[(camera_data['R'].isnull()) |\n",
        "              (camera_data['G'].isnull()) |\n",
        "              (camera_data['B'].isnull()) |\n",
        "              (camera_data['SPAD'].isnull()) |\n",
        "              #(camera_data['Nitrogen'].isnull()) |\n",
        "              (camera_data['Category'].isnull())]"
      ],
      "execution_count": null,
      "outputs": [
        {
          "output_type": "execute_result",
          "data": {
            "text/html": [
              "<div>\n",
              "<style scoped>\n",
              "    .dataframe tbody tr th:only-of-type {\n",
              "        vertical-align: middle;\n",
              "    }\n",
              "\n",
              "    .dataframe tbody tr th {\n",
              "        vertical-align: top;\n",
              "    }\n",
              "\n",
              "    .dataframe thead th {\n",
              "        text-align: right;\n",
              "    }\n",
              "</style>\n",
              "<table border=\"1\" class=\"dataframe\">\n",
              "  <thead>\n",
              "    <tr style=\"text-align: right;\">\n",
              "      <th></th>\n",
              "      <th>R</th>\n",
              "      <th>G</th>\n",
              "      <th>B</th>\n",
              "      <th>SPAD</th>\n",
              "      <th>Nitorgen</th>\n",
              "      <th>Category</th>\n",
              "      <th>Normalized R</th>\n",
              "      <th>Normalized G</th>\n",
              "      <th>Normalized B</th>\n",
              "      <th>SR B/R</th>\n",
              "      <th>NDVI (cam)</th>\n",
              "      <th>Excess NIRB</th>\n",
              "    </tr>\n",
              "  </thead>\n",
              "  <tbody>\n",
              "  </tbody>\n",
              "</table>\n",
              "</div>"
            ],
            "text/plain": [
              "Empty DataFrame\n",
              "Columns: [R, G, B, SPAD, Nitorgen, Category, Normalized R, Normalized G, Normalized B, SR B/R, NDVI (cam), Excess NIRB]\n",
              "Index: []"
            ]
          },
          "metadata": {
            "tags": []
          },
          "execution_count": 5
        }
      ]
    },
    {
      "cell_type": "markdown",
      "metadata": {
        "id": "_riMXOx2llxw"
      },
      "source": [
        "If the missing data seems randomly distributed, go ahead and drop rows with missing data. Hint: use dropna()."
      ]
    },
    {
      "cell_type": "markdown",
      "metadata": {
        "collapsed": true,
        "id": "kclhn6vBllxx"
      },
      "source": [
        "Next you'll need to convert the Pandas dataframes into numpy arrays that can be used by scikit_learn. Create an array that extracts only the feature data we want to work with (age, shape, margin, and density) and another array that contains the classes (severity). You'll also need an array of the feature name labels."
      ]
    },
    {
      "cell_type": "code",
      "metadata": {
        "id": "7Y43eXmBllxz",
        "colab": {
          "base_uri": "https://localhost:8080/"
        },
        "outputId": "f8d7ad60-3f56-4ec9-a2df-a4a103b585db"
      },
      "source": [
        "all_features = camera_data[['R', 'G','B']].values\n",
        "\n",
        "all_classes = camera_data['Category'].values\n",
        "\n",
        "feature_names = ['R', 'G', 'B']\n",
        "\n",
        "all_features"
      ],
      "execution_count": null,
      "outputs": [
        {
          "output_type": "execute_result",
          "data": {
            "text/plain": [
              "array([[148.25069215, 179.04904885, 207.6909708 ],\n",
              "       [136.58128694, 168.44320449, 197.89236636],\n",
              "       [138.81742342, 167.90584602, 195.12577215],\n",
              "       ...,\n",
              "       [156.52664047, 172.25072886, 184.3551781 ],\n",
              "       [154.85355054, 179.95112782, 200.11854637],\n",
              "       [151.54104915, 172.88054043, 189.08023713]])"
            ]
          },
          "metadata": {
            "tags": []
          },
          "execution_count": 6
        }
      ]
    },
    {
      "cell_type": "markdown",
      "metadata": {
        "id": "YtrIKwVQllx0"
      },
      "source": [
        "Some of our models require the input data to be normalized, so go ahead and normalize the attribute data. Hint: use preprocessing.StandardScaler()."
      ]
    },
    {
      "cell_type": "code",
      "metadata": {
        "id": "XcYaPGxnllx1",
        "colab": {
          "base_uri": "https://localhost:8080/"
        },
        "outputId": "cba79146-47cd-4633-cf0b-f7f6dd6d2471"
      },
      "source": [
        "from sklearn import preprocessing\n",
        "\n",
        "scaler = preprocessing.StandardScaler()\n",
        "all_features_scaled = scaler.fit_transform(all_features)\n",
        "all_features_scaled"
      ],
      "execution_count": null,
      "outputs": [
        {
          "output_type": "execute_result",
          "data": {
            "text/plain": [
              "array([[-2.56538976e-01,  1.48504480e-01,  7.82193711e-01],\n",
              "       [-1.58723355e+00, -1.13482674e+00, -2.30944735e-01],\n",
              "       [-1.33224072e+00, -1.19984834e+00, -5.17000058e-01],\n",
              "       ...,\n",
              "       [ 6.87190318e-01, -6.74107659e-01, -1.63063853e+00],\n",
              "       [ 4.96403242e-01,  2.57658081e-01, -7.66185673e-04],\n",
              "       [ 1.18669540e-01, -5.97899030e-01, -1.14208539e+00]])"
            ]
          },
          "metadata": {
            "tags": []
          },
          "execution_count": 7
        }
      ]
    },
    {
      "cell_type": "code",
      "metadata": {
        "id": "6vuLHamzjfuI"
      },
      "source": [
        "from sklearn.preprocessing import LabelEncoder\n",
        "\n",
        "LE = LabelEncoder()\n",
        "\n",
        "all_encoded_classes = LE.fit_transform(all_classes)"
      ],
      "execution_count": null,
      "outputs": []
    },
    {
      "cell_type": "markdown",
      "metadata": {
        "id": "LGQmB0m9llx3"
      },
      "source": [
        "## Decision Trees\n",
        "\n",
        "Before moving to K-Fold cross validation and random forests, start by creating a single train/test split of our data. Set aside 75% for training, and 25% for testing."
      ]
    },
    {
      "cell_type": "code",
      "metadata": {
        "id": "pz371cAFeaR2"
      },
      "source": [
        "from sklearn.tree import DecisionTreeClassifier\n",
        "from sklearn.model_selection import train_test_split\n",
        "from sklearn.metrics import accuracy_score"
      ],
      "execution_count": null,
      "outputs": []
    },
    {
      "cell_type": "code",
      "metadata": {
        "id": "D_FPGiCxixWY"
      },
      "source": [
        "x_train, x_test, y_train, y_test = train_test_split(all_features_scaled, all_encoded_classes, random_state = 1, test_size = 0.2)"
      ],
      "execution_count": null,
      "outputs": []
    },
    {
      "cell_type": "code",
      "metadata": {
        "colab": {
          "base_uri": "https://localhost:8080/"
        },
        "id": "Rtm8f4qEi8Hf",
        "outputId": "0626e276-8d68-48f7-dbb9-05847d7fa400"
      },
      "source": [
        "DTC = DecisionTreeClassifier()\n",
        "DTC.fit(x_train, y_train)"
      ],
      "execution_count": null,
      "outputs": [
        {
          "output_type": "execute_result",
          "data": {
            "text/plain": [
              "DecisionTreeClassifier(ccp_alpha=0.0, class_weight=None, criterion='gini',\n",
              "                       max_depth=None, max_features=None, max_leaf_nodes=None,\n",
              "                       min_impurity_decrease=0.0, min_impurity_split=None,\n",
              "                       min_samples_leaf=1, min_samples_split=2,\n",
              "                       min_weight_fraction_leaf=0.0, presort='deprecated',\n",
              "                       random_state=None, splitter='best')"
            ]
          },
          "metadata": {
            "tags": []
          },
          "execution_count": 11
        }
      ]
    },
    {
      "cell_type": "code",
      "metadata": {
        "id": "fkuHJokOjCGs"
      },
      "source": [
        "predict = DTC.predict(x_test)"
      ],
      "execution_count": null,
      "outputs": []
    },
    {
      "cell_type": "code",
      "metadata": {
        "colab": {
          "base_uri": "https://localhost:8080/"
        },
        "id": "1NdfSjrmjH7W",
        "outputId": "a4a6879a-b506-4cf0-97f4-71cd947f0337"
      },
      "source": [
        "accuracy_score(predict, y_test)"
      ],
      "execution_count": null,
      "outputs": [
        {
          "output_type": "execute_result",
          "data": {
            "text/plain": [
              "0.6916666666666667"
            ]
          },
          "metadata": {
            "tags": []
          },
          "execution_count": 13
        }
      ]
    },
    {
      "cell_type": "markdown",
      "metadata": {
        "id": "USXlSoaWllx5"
      },
      "source": [
        "# RANDOM FOREST"
      ]
    },
    {
      "cell_type": "code",
      "metadata": {
        "id": "zy81plc4llx6"
      },
      "source": [
        "from sklearn.ensemble import RandomForestClassifier\n",
        "from sklearn.model_selection import train_test_split"
      ],
      "execution_count": null,
      "outputs": []
    },
    {
      "cell_type": "code",
      "metadata": {
        "id": "SWSTygLtndoN"
      },
      "source": [
        "x_train, x_test, y_train, y_test = train_test_split(all_features_scaled, all_encoded_classes, random_state = 1, test_size = 0.2)"
      ],
      "execution_count": null,
      "outputs": []
    },
    {
      "cell_type": "code",
      "metadata": {
        "colab": {
          "base_uri": "https://localhost:8080/"
        },
        "id": "o5xq0bb9nSzq",
        "outputId": "5538445e-f220-455a-9f9a-3e72a7a18476"
      },
      "source": [
        "RFC = RandomForestClassifier()\n",
        "RFC.fit(x_train, y_train)"
      ],
      "execution_count": null,
      "outputs": [
        {
          "output_type": "execute_result",
          "data": {
            "text/plain": [
              "RandomForestClassifier(bootstrap=True, ccp_alpha=0.0, class_weight=None,\n",
              "                       criterion='gini', max_depth=None, max_features='auto',\n",
              "                       max_leaf_nodes=None, max_samples=None,\n",
              "                       min_impurity_decrease=0.0, min_impurity_split=None,\n",
              "                       min_samples_leaf=1, min_samples_split=2,\n",
              "                       min_weight_fraction_leaf=0.0, n_estimators=100,\n",
              "                       n_jobs=None, oob_score=False, random_state=None,\n",
              "                       verbose=0, warm_start=False)"
            ]
          },
          "metadata": {
            "tags": []
          },
          "execution_count": 16
        }
      ]
    },
    {
      "cell_type": "code",
      "metadata": {
        "id": "f17bqMYinuC5"
      },
      "source": [
        "predict = RFC.predict(x_test)"
      ],
      "execution_count": null,
      "outputs": []
    },
    {
      "cell_type": "code",
      "metadata": {
        "colab": {
          "base_uri": "https://localhost:8080/"
        },
        "id": "bNOayRuanyYY",
        "outputId": "347a06c1-c475-43a5-b515-3d20aa27467f"
      },
      "source": [
        "accuracy_score(predict, y_test)"
      ],
      "execution_count": null,
      "outputs": [
        {
          "output_type": "execute_result",
          "data": {
            "text/plain": [
              "0.7833333333333333"
            ]
          },
          "metadata": {
            "tags": []
          },
          "execution_count": 18
        }
      ]
    },
    {
      "cell_type": "markdown",
      "metadata": {
        "id": "pYXbBjPxllx7"
      },
      "source": [
        "Now try a RandomForestClassifier instead. Does it perform better?"
      ]
    },
    {
      "cell_type": "markdown",
      "metadata": {
        "id": "24h16bxjllx8"
      },
      "source": [
        "## SVM\n",
        "\n",
        "Next try using svm.SVC with a linear kernel. How does it compare to the decision tree?"
      ]
    },
    {
      "cell_type": "code",
      "metadata": {
        "id": "qK4uKY1dllx9"
      },
      "source": [
        "from sklearn.svm import SVC\n",
        "from sklearn.model_selection import train_test_split\n",
        "from sklearn.metrics import accuracy_score"
      ],
      "execution_count": null,
      "outputs": []
    },
    {
      "cell_type": "code",
      "metadata": {
        "id": "uo2cWNrhoK4Y"
      },
      "source": [
        "x_train, x_test, y_train, y_test = train_test_split(all_features_scaled, all_encoded_classes, random_state = 1, test_size = 0.2)"
      ],
      "execution_count": null,
      "outputs": []
    },
    {
      "cell_type": "code",
      "metadata": {
        "colab": {
          "base_uri": "https://localhost:8080/"
        },
        "id": "gurgUuahoOa7",
        "outputId": "3dd51506-1e84-46a2-a838-8329a787526a"
      },
      "source": [
        "svc = SVC(kernel = 'linear')\n",
        "svc.fit(x_test, y_test)"
      ],
      "execution_count": null,
      "outputs": [
        {
          "output_type": "execute_result",
          "data": {
            "text/plain": [
              "SVC(C=1.0, break_ties=False, cache_size=200, class_weight=None, coef0=0.0,\n",
              "    decision_function_shape='ovr', degree=3, gamma='scale', kernel='linear',\n",
              "    max_iter=-1, probability=False, random_state=None, shrinking=True,\n",
              "    tol=0.001, verbose=False)"
            ]
          },
          "metadata": {
            "tags": []
          },
          "execution_count": 21
        }
      ]
    },
    {
      "cell_type": "code",
      "metadata": {
        "id": "DQ7xXpRCoV6L"
      },
      "source": [
        "predict = svc.predict(x_test)"
      ],
      "execution_count": null,
      "outputs": []
    },
    {
      "cell_type": "code",
      "metadata": {
        "colab": {
          "base_uri": "https://localhost:8080/"
        },
        "id": "Z0mzzi7-otLq",
        "outputId": "b5412757-1bde-43ba-b6ac-36bf2f279da8"
      },
      "source": [
        "accuracy_score(predict, y_test)"
      ],
      "execution_count": null,
      "outputs": [
        {
          "output_type": "execute_result",
          "data": {
            "text/plain": [
              "0.8083333333333333"
            ]
          },
          "metadata": {
            "tags": []
          },
          "execution_count": 23
        }
      ]
    },
    {
      "cell_type": "markdown",
      "metadata": {
        "id": "LdJFKijkllx-"
      },
      "source": [
        "## KNN\n"
      ]
    },
    {
      "cell_type": "code",
      "metadata": {
        "id": "O7UFcRm6llx_"
      },
      "source": [
        "from sklearn.neighbors import KNeighborsClassifier\n",
        "from sklearn.model_selection import train_test_split\n",
        "from sklearn.metrics import accuracy_score"
      ],
      "execution_count": null,
      "outputs": []
    },
    {
      "cell_type": "code",
      "metadata": {
        "id": "-2uzTqispFOw"
      },
      "source": [
        "x_train, x_test, y_train, y_test = train_test_split(all_features_scaled, all_encoded_classes, random_state = 1, test_size = 0.2)"
      ],
      "execution_count": null,
      "outputs": []
    },
    {
      "cell_type": "code",
      "metadata": {
        "colab": {
          "base_uri": "https://localhost:8080/"
        },
        "id": "zPPtn2_UpBRV",
        "outputId": "a9459e73-9c06-4e2b-b208-91c89c1430fe"
      },
      "source": [
        "KNN = KNeighborsClassifier()\n",
        "KNN.fit(x_train, y_train)"
      ],
      "execution_count": null,
      "outputs": [
        {
          "output_type": "execute_result",
          "data": {
            "text/plain": [
              "KNeighborsClassifier(algorithm='auto', leaf_size=30, metric='minkowski',\n",
              "                     metric_params=None, n_jobs=None, n_neighbors=5, p=2,\n",
              "                     weights='uniform')"
            ]
          },
          "metadata": {
            "tags": []
          },
          "execution_count": 26
        }
      ]
    },
    {
      "cell_type": "code",
      "metadata": {
        "id": "3XYJdFDapIqB"
      },
      "source": [
        "predict = KNN.predict(x_test)"
      ],
      "execution_count": null,
      "outputs": []
    },
    {
      "cell_type": "code",
      "metadata": {
        "colab": {
          "base_uri": "https://localhost:8080/"
        },
        "id": "XCnYSv4MpOcw",
        "outputId": "9bd31581-324e-4e91-dc13-f681fc8f4553"
      },
      "source": [
        "accuracy_score(predict, y_test)"
      ],
      "execution_count": null,
      "outputs": [
        {
          "output_type": "execute_result",
          "data": {
            "text/plain": [
              "0.7833333333333333"
            ]
          },
          "metadata": {
            "tags": []
          },
          "execution_count": 28
        }
      ]
    },
    {
      "cell_type": "markdown",
      "metadata": {
        "id": "rsq4_DqallyA"
      },
      "source": [
        "## Naive Bayes\n",
        "\n"
      ]
    },
    {
      "cell_type": "code",
      "metadata": {
        "id": "IRs9tx53llyB"
      },
      "source": [
        "from sklearn.naive_bayes import GaussianNB\n",
        "from sklearn.model_selection import train_test_split\n",
        "from sklearn.metrics import accuracy_score"
      ],
      "execution_count": null,
      "outputs": []
    },
    {
      "cell_type": "code",
      "metadata": {
        "id": "LExZ8fhK7K7z"
      },
      "source": [
        "x_train, x_test, y_train, y_test = train_test_split(all_features_scaled, all_encoded_classes, random_state = 1, test_size = 0.2)"
      ],
      "execution_count": null,
      "outputs": []
    },
    {
      "cell_type": "code",
      "metadata": {
        "colab": {
          "base_uri": "https://localhost:8080/"
        },
        "id": "DAJ5ZcmB7O7c",
        "outputId": "8586df3c-bbcb-4582-dd3c-9fb9494c05a5"
      },
      "source": [
        "GNB = GaussianNB()\n",
        "GNB.fit(x_train, y_train)"
      ],
      "execution_count": null,
      "outputs": [
        {
          "output_type": "execute_result",
          "data": {
            "text/plain": [
              "GaussianNB(priors=None, var_smoothing=1e-09)"
            ]
          },
          "metadata": {
            "tags": []
          },
          "execution_count": 31
        }
      ]
    },
    {
      "cell_type": "code",
      "metadata": {
        "id": "J_BsJRzc7dfh"
      },
      "source": [
        "predict = GNB.predict(x_test)"
      ],
      "execution_count": null,
      "outputs": []
    },
    {
      "cell_type": "code",
      "metadata": {
        "colab": {
          "base_uri": "https://localhost:8080/"
        },
        "id": "DPEkEIts7h5H",
        "outputId": "e3080a48-75eb-4cbc-c501-f7c361108e8d"
      },
      "source": [
        "accuracy_score(predict, y_test)"
      ],
      "execution_count": null,
      "outputs": [
        {
          "output_type": "execute_result",
          "data": {
            "text/plain": [
              "0.575"
            ]
          },
          "metadata": {
            "tags": []
          },
          "execution_count": 33
        }
      ]
    },
    {
      "cell_type": "markdown",
      "metadata": {
        "id": "0308UWmJllyC"
      },
      "source": [
        "## Logistic Regression\n"
      ]
    },
    {
      "cell_type": "code",
      "metadata": {
        "id": "q7jd_9lmllyC"
      },
      "source": [
        "from sklearn.linear_model import LogisticRegression\n",
        "from sklearn.model_selection import train_test_split\n",
        "from sklearn.metrics import accuracy_score"
      ],
      "execution_count": null,
      "outputs": []
    },
    {
      "cell_type": "code",
      "metadata": {
        "id": "qCF_7g5_8KHD"
      },
      "source": [
        "x_train, x_test, y_train, y_test = train_test_split(all_features_scaled, all_encoded_classes, random_state = 1, test_size = 0.2)"
      ],
      "execution_count": null,
      "outputs": []
    },
    {
      "cell_type": "code",
      "metadata": {
        "colab": {
          "base_uri": "https://localhost:8080/"
        },
        "id": "NWa1z-hN8Kt9",
        "outputId": "6a608485-79b0-47e1-867e-8823e60af39c"
      },
      "source": [
        "LogReg = LogisticRegression()\n",
        "LogReg.fit(x_train, y_train)"
      ],
      "execution_count": null,
      "outputs": [
        {
          "output_type": "execute_result",
          "data": {
            "text/plain": [
              "LogisticRegression(C=1.0, class_weight=None, dual=False, fit_intercept=True,\n",
              "                   intercept_scaling=1, l1_ratio=None, max_iter=100,\n",
              "                   multi_class='auto', n_jobs=None, penalty='l2',\n",
              "                   random_state=None, solver='lbfgs', tol=0.0001, verbose=0,\n",
              "                   warm_start=False)"
            ]
          },
          "metadata": {
            "tags": []
          },
          "execution_count": 36
        }
      ]
    },
    {
      "cell_type": "code",
      "metadata": {
        "id": "KIBAJz4h8Q_j"
      },
      "source": [
        "predict = LogReg.predict(x_test)"
      ],
      "execution_count": null,
      "outputs": []
    },
    {
      "cell_type": "code",
      "metadata": {
        "colab": {
          "base_uri": "https://localhost:8080/"
        },
        "id": "sJHvTUhA8V_a",
        "outputId": "83663d3e-eaf3-4919-eba4-66cb4e74d521"
      },
      "source": [
        "accuracy_score(predict, y_test)"
      ],
      "execution_count": null,
      "outputs": [
        {
          "output_type": "execute_result",
          "data": {
            "text/plain": [
              "0.8416666666666667"
            ]
          },
          "metadata": {
            "tags": []
          },
          "execution_count": 38
        }
      ]
    }
  ]
}