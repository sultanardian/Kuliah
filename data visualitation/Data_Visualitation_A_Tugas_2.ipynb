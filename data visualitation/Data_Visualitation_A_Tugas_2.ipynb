{
  "nbformat": 4,
  "nbformat_minor": 0,
  "metadata": {
    "colab": {
      "name": "Data Visualitation A - Tugas 2.ipynb",
      "provenance": [],
      "collapsed_sections": [],
      "include_colab_link": true
    },
    "kernelspec": {
      "name": "python3",
      "display_name": "Python 3"
    },
    "language_info": {
      "name": "python"
    }
  },
  "cells": [
    {
      "cell_type": "markdown",
      "metadata": {
        "id": "view-in-github",
        "colab_type": "text"
      },
      "source": [
        "<a href=\"https://colab.research.google.com/github/sultanardian/kuliah/blob/main/data%20visualitation/Data_Visualitation_A_Tugas_2.ipynb\" target=\"_parent\"><img src=\"https://colab.research.google.com/assets/colab-badge.svg\" alt=\"Open In Colab\"/></a>"
      ]
    },
    {
      "cell_type": "code",
      "metadata": {
        "id": "beuBO3BMBGdR"
      },
      "source": [
        "import pandas as pd\n",
        "import matplotlib.pyplot as plt"
      ],
      "execution_count": null,
      "outputs": []
    },
    {
      "cell_type": "code",
      "metadata": {
        "colab": {
          "base_uri": "https://localhost:8080/",
          "height": 289
        },
        "id": "4-zL4DtUC_jy",
        "outputId": "f94e8692-20e7-4667-9040-2932d771d829"
      },
      "source": [
        "df = pd.read_csv('/content/drive/MyDrive/Dataset/athlete_events.csv')\n",
        "df.head()"
      ],
      "execution_count": null,
      "outputs": [
        {
          "output_type": "execute_result",
          "data": {
            "text/html": [
              "<div>\n",
              "<style scoped>\n",
              "    .dataframe tbody tr th:only-of-type {\n",
              "        vertical-align: middle;\n",
              "    }\n",
              "\n",
              "    .dataframe tbody tr th {\n",
              "        vertical-align: top;\n",
              "    }\n",
              "\n",
              "    .dataframe thead th {\n",
              "        text-align: right;\n",
              "    }\n",
              "</style>\n",
              "<table border=\"1\" class=\"dataframe\">\n",
              "  <thead>\n",
              "    <tr style=\"text-align: right;\">\n",
              "      <th></th>\n",
              "      <th>ID</th>\n",
              "      <th>Name</th>\n",
              "      <th>Sex</th>\n",
              "      <th>Age</th>\n",
              "      <th>Height</th>\n",
              "      <th>Weight</th>\n",
              "      <th>Team</th>\n",
              "      <th>NOC</th>\n",
              "      <th>Games</th>\n",
              "      <th>Year</th>\n",
              "      <th>Season</th>\n",
              "      <th>City</th>\n",
              "      <th>Sport</th>\n",
              "      <th>Event</th>\n",
              "      <th>Medal</th>\n",
              "    </tr>\n",
              "  </thead>\n",
              "  <tbody>\n",
              "    <tr>\n",
              "      <th>0</th>\n",
              "      <td>1</td>\n",
              "      <td>A Dijiang</td>\n",
              "      <td>M</td>\n",
              "      <td>24.0</td>\n",
              "      <td>180.0</td>\n",
              "      <td>80.0</td>\n",
              "      <td>China</td>\n",
              "      <td>CHN</td>\n",
              "      <td>1992 Summer</td>\n",
              "      <td>1992</td>\n",
              "      <td>Summer</td>\n",
              "      <td>Barcelona</td>\n",
              "      <td>Basketball</td>\n",
              "      <td>Basketball Men's Basketball</td>\n",
              "      <td>NaN</td>\n",
              "    </tr>\n",
              "    <tr>\n",
              "      <th>1</th>\n",
              "      <td>2</td>\n",
              "      <td>A Lamusi</td>\n",
              "      <td>M</td>\n",
              "      <td>23.0</td>\n",
              "      <td>170.0</td>\n",
              "      <td>60.0</td>\n",
              "      <td>China</td>\n",
              "      <td>CHN</td>\n",
              "      <td>2012 Summer</td>\n",
              "      <td>2012</td>\n",
              "      <td>Summer</td>\n",
              "      <td>London</td>\n",
              "      <td>Judo</td>\n",
              "      <td>Judo Men's Extra-Lightweight</td>\n",
              "      <td>NaN</td>\n",
              "    </tr>\n",
              "    <tr>\n",
              "      <th>2</th>\n",
              "      <td>3</td>\n",
              "      <td>Gunnar Nielsen Aaby</td>\n",
              "      <td>M</td>\n",
              "      <td>24.0</td>\n",
              "      <td>NaN</td>\n",
              "      <td>NaN</td>\n",
              "      <td>Denmark</td>\n",
              "      <td>DEN</td>\n",
              "      <td>1920 Summer</td>\n",
              "      <td>1920</td>\n",
              "      <td>Summer</td>\n",
              "      <td>Antwerpen</td>\n",
              "      <td>Football</td>\n",
              "      <td>Football Men's Football</td>\n",
              "      <td>NaN</td>\n",
              "    </tr>\n",
              "    <tr>\n",
              "      <th>3</th>\n",
              "      <td>4</td>\n",
              "      <td>Edgar Lindenau Aabye</td>\n",
              "      <td>M</td>\n",
              "      <td>34.0</td>\n",
              "      <td>NaN</td>\n",
              "      <td>NaN</td>\n",
              "      <td>Denmark/Sweden</td>\n",
              "      <td>DEN</td>\n",
              "      <td>1900 Summer</td>\n",
              "      <td>1900</td>\n",
              "      <td>Summer</td>\n",
              "      <td>Paris</td>\n",
              "      <td>Tug-Of-War</td>\n",
              "      <td>Tug-Of-War Men's Tug-Of-War</td>\n",
              "      <td>Gold</td>\n",
              "    </tr>\n",
              "    <tr>\n",
              "      <th>4</th>\n",
              "      <td>5</td>\n",
              "      <td>Christine Jacoba Aaftink</td>\n",
              "      <td>F</td>\n",
              "      <td>21.0</td>\n",
              "      <td>185.0</td>\n",
              "      <td>82.0</td>\n",
              "      <td>Netherlands</td>\n",
              "      <td>NED</td>\n",
              "      <td>1988 Winter</td>\n",
              "      <td>1988</td>\n",
              "      <td>Winter</td>\n",
              "      <td>Calgary</td>\n",
              "      <td>Speed Skating</td>\n",
              "      <td>Speed Skating Women's 500 metres</td>\n",
              "      <td>NaN</td>\n",
              "    </tr>\n",
              "  </tbody>\n",
              "</table>\n",
              "</div>"
            ],
            "text/plain": [
              "   ID                      Name  ...                             Event  Medal\n",
              "0   1                 A Dijiang  ...       Basketball Men's Basketball    NaN\n",
              "1   2                  A Lamusi  ...      Judo Men's Extra-Lightweight    NaN\n",
              "2   3       Gunnar Nielsen Aaby  ...           Football Men's Football    NaN\n",
              "3   4      Edgar Lindenau Aabye  ...       Tug-Of-War Men's Tug-Of-War   Gold\n",
              "4   5  Christine Jacoba Aaftink  ...  Speed Skating Women's 500 metres    NaN\n",
              "\n",
              "[5 rows x 15 columns]"
            ]
          },
          "metadata": {},
          "execution_count": 116
        }
      ]
    },
    {
      "cell_type": "code",
      "metadata": {
        "colab": {
          "base_uri": "https://localhost:8080/"
        },
        "id": "H6v7fs1pGQQU",
        "outputId": "93cecee4-9e3a-4711-8711-5d22ff3fffeb"
      },
      "source": [
        "df.shape"
      ],
      "execution_count": null,
      "outputs": [
        {
          "output_type": "execute_result",
          "data": {
            "text/plain": [
              "(271116, 15)"
            ]
          },
          "metadata": {},
          "execution_count": 117
        }
      ]
    },
    {
      "cell_type": "code",
      "metadata": {
        "colab": {
          "base_uri": "https://localhost:8080/"
        },
        "id": "7mPu-uCMGLav",
        "outputId": "5bf3e7c3-9bb6-4c16-e01d-b95058083416"
      },
      "source": [
        "df.isnull().sum()"
      ],
      "execution_count": null,
      "outputs": [
        {
          "output_type": "execute_result",
          "data": {
            "text/plain": [
              "ID             0\n",
              "Name           0\n",
              "Sex            0\n",
              "Age         9474\n",
              "Height     60171\n",
              "Weight     62875\n",
              "Team           0\n",
              "NOC            0\n",
              "Games          0\n",
              "Year           0\n",
              "Season         0\n",
              "City           0\n",
              "Sport          0\n",
              "Event          0\n",
              "Medal     231333\n",
              "dtype: int64"
            ]
          },
          "metadata": {},
          "execution_count": 118
        }
      ]
    },
    {
      "cell_type": "code",
      "metadata": {
        "id": "Z7110zffG2-w"
      },
      "source": [
        "df['Weight'].fillna(df['Weight'].mean(), inplace = True)\n",
        "df['Height'].fillna(df['Height'].mean(), inplace = True)\n",
        "df.dropna(subset = ['Medal'], axis = 0, inplace = True)"
      ],
      "execution_count": null,
      "outputs": []
    },
    {
      "cell_type": "markdown",
      "metadata": {
        "id": "sm8dVEfQxcgO"
      },
      "source": [
        "## Problem 1\n",
        "Buat plot menggunakan teknik visualisasi yang tepat yang paling baik menyajikan pola global fitur tinggi dan berat badan pemenang medali 2016 dari lima cabang olahraga"
      ]
    },
    {
      "cell_type": "markdown",
      "metadata": {
        "id": "HZ6Ij831_HAn"
      },
      "source": [
        "Menentukan olahraga yang berhasil dimenangkan pada tahun 2016 dan mengurutkan berdasarkan total perolehan medali terbanyak yang bisa dilihat dari banyaknya data dari kolom ```ID```"
      ]
    },
    {
      "cell_type": "code",
      "metadata": {
        "colab": {
          "base_uri": "https://localhost:8080/",
          "height": 235
        },
        "id": "m9slFKvOL86G",
        "outputId": "f522e12d-0439-43e0-d9aa-19773e75953f"
      },
      "source": [
        "grouped_by_sport = df[(df['Year'] == 2016)].groupby('Sport')\n",
        "sorted_sport = grouped_by_sport.count().sort_values(by = 'Medal', ascending = False).head().index"
      ],
      "execution_count": null,
      "outputs": [
        {
          "output_type": "execute_result",
          "data": {
            "text/html": [
              "<div>\n",
              "<style scoped>\n",
              "    .dataframe tbody tr th:only-of-type {\n",
              "        vertical-align: middle;\n",
              "    }\n",
              "\n",
              "    .dataframe tbody tr th {\n",
              "        vertical-align: top;\n",
              "    }\n",
              "\n",
              "    .dataframe thead th {\n",
              "        text-align: right;\n",
              "    }\n",
              "</style>\n",
              "<table border=\"1\" class=\"dataframe\">\n",
              "  <thead>\n",
              "    <tr style=\"text-align: right;\">\n",
              "      <th></th>\n",
              "      <th>ID</th>\n",
              "      <th>Age</th>\n",
              "      <th>Height</th>\n",
              "      <th>Weight</th>\n",
              "      <th>Year</th>\n",
              "    </tr>\n",
              "    <tr>\n",
              "      <th>Sport</th>\n",
              "      <th></th>\n",
              "      <th></th>\n",
              "      <th></th>\n",
              "      <th></th>\n",
              "      <th></th>\n",
              "    </tr>\n",
              "  </thead>\n",
              "  <tbody>\n",
              "    <tr>\n",
              "      <th>Athletics</th>\n",
              "      <td>12106349</td>\n",
              "      <td>5071.0</td>\n",
              "      <td>34055.67794</td>\n",
              "      <td>13590.107179</td>\n",
              "      <td>387072</td>\n",
              "    </tr>\n",
              "    <tr>\n",
              "      <th>Swimming</th>\n",
              "      <td>13464383</td>\n",
              "      <td>4437.0</td>\n",
              "      <td>35036.33897</td>\n",
              "      <td>14248.702393</td>\n",
              "      <td>385056</td>\n",
              "    </tr>\n",
              "    <tr>\n",
              "      <th>Rowing</th>\n",
              "      <td>9890723</td>\n",
              "      <td>4050.0</td>\n",
              "      <td>26781.00000</td>\n",
              "      <td>11768.000000</td>\n",
              "      <td>290304</td>\n",
              "    </tr>\n",
              "    <tr>\n",
              "      <th>Football</th>\n",
              "      <td>7121851</td>\n",
              "      <td>2553.0</td>\n",
              "      <td>18498.00000</td>\n",
              "      <td>7332.702393</td>\n",
              "      <td>213696</td>\n",
              "    </tr>\n",
              "    <tr>\n",
              "      <th>Hockey</th>\n",
              "      <td>7667209</td>\n",
              "      <td>2612.0</td>\n",
              "      <td>17392.00000</td>\n",
              "      <td>7009.000000</td>\n",
              "      <td>199584</td>\n",
              "    </tr>\n",
              "  </tbody>\n",
              "</table>\n",
              "</div>"
            ],
            "text/plain": [
              "                 ID     Age       Height        Weight    Year\n",
              "Sport                                                         \n",
              "Athletics  12106349  5071.0  34055.67794  13590.107179  387072\n",
              "Swimming   13464383  4437.0  35036.33897  14248.702393  385056\n",
              "Rowing      9890723  4050.0  26781.00000  11768.000000  290304\n",
              "Football    7121851  2553.0  18498.00000   7332.702393  213696\n",
              "Hockey      7667209  2612.0  17392.00000   7009.000000  199584"
            ]
          },
          "metadata": {},
          "execution_count": 96
        }
      ]
    },
    {
      "cell_type": "markdown",
      "metadata": {
        "id": "YFd6T6BB-LL4"
      },
      "source": [
        "Mengambil nama nama pemain yang berhasil mendapatkan medali di tahun 2016 pada olahraga yang telah ditentukan sebelumnya dan menghitung mean nya. Hal ini dilakukan untuk mendapatkan nilai aktual pada kolom ```Height``` dan ```Weight``` tiap pemain (data ```Height``` dan ```Weight``` pada pemain terlihat konsisten)"
      ]
    },
    {
      "cell_type": "code",
      "metadata": {
        "colab": {
          "base_uri": "https://localhost:8080/",
          "height": 450
        },
        "id": "kZa3QKHRy0mu",
        "outputId": "dc334dec-a126-4f32-dda3-ebeddbc16b91"
      },
      "source": [
        "player = df[(df['Year'] == 2016) & (df['Sport'].isin(sorted_sport))].groupby('Name').mean()\n",
        "player"
      ],
      "execution_count": null,
      "outputs": [
        {
          "output_type": "execute_result",
          "data": {
            "text/html": [
              "<div>\n",
              "<style scoped>\n",
              "    .dataframe tbody tr th:only-of-type {\n",
              "        vertical-align: middle;\n",
              "    }\n",
              "\n",
              "    .dataframe tbody tr th {\n",
              "        vertical-align: top;\n",
              "    }\n",
              "\n",
              "    .dataframe thead th {\n",
              "        text-align: right;\n",
              "    }\n",
              "</style>\n",
              "<table border=\"1\" class=\"dataframe\">\n",
              "  <thead>\n",
              "    <tr style=\"text-align: right;\">\n",
              "      <th></th>\n",
              "      <th>ID</th>\n",
              "      <th>Age</th>\n",
              "      <th>Height</th>\n",
              "      <th>Weight</th>\n",
              "      <th>Year</th>\n",
              "    </tr>\n",
              "    <tr>\n",
              "      <th>Name</th>\n",
              "      <th></th>\n",
              "      <th></th>\n",
              "      <th></th>\n",
              "      <th></th>\n",
              "      <th></th>\n",
              "    </tr>\n",
              "  </thead>\n",
              "  <tbody>\n",
              "    <tr>\n",
              "      <th>Aaron Brown</th>\n",
              "      <td>15460</td>\n",
              "      <td>24.0</td>\n",
              "      <td>198.0</td>\n",
              "      <td>79.0</td>\n",
              "      <td>2016</td>\n",
              "    </tr>\n",
              "    <tr>\n",
              "      <th>Abbey Weitzeil</th>\n",
              "      <td>129476</td>\n",
              "      <td>19.0</td>\n",
              "      <td>178.0</td>\n",
              "      <td>68.0</td>\n",
              "      <td>2016</td>\n",
              "    </tr>\n",
              "    <tr>\n",
              "      <th>Abdullahi Shehu</th>\n",
              "      <td>109475</td>\n",
              "      <td>23.0</td>\n",
              "      <td>170.0</td>\n",
              "      <td>72.0</td>\n",
              "      <td>2016</td>\n",
              "    </tr>\n",
              "    <tr>\n",
              "      <th>Adam George Peaty</th>\n",
              "      <td>92529</td>\n",
              "      <td>21.0</td>\n",
              "      <td>191.0</td>\n",
              "      <td>86.0</td>\n",
              "      <td>2016</td>\n",
              "    </tr>\n",
              "    <tr>\n",
              "      <th>Adelina Maria Cojocariu-Bogus</th>\n",
              "      <td>22287</td>\n",
              "      <td>27.0</td>\n",
              "      <td>186.0</td>\n",
              "      <td>75.0</td>\n",
              "      <td>2016</td>\n",
              "    </tr>\n",
              "    <tr>\n",
              "      <th>...</th>\n",
              "      <td>...</td>\n",
              "      <td>...</td>\n",
              "      <td>...</td>\n",
              "      <td>...</td>\n",
              "      <td>...</td>\n",
              "    </tr>\n",
              "    <tr>\n",
              "      <th>Yuliya Andreyevna Yefimova</th>\n",
              "      <td>132765</td>\n",
              "      <td>24.0</td>\n",
              "      <td>178.0</td>\n",
              "      <td>64.0</td>\n",
              "      <td>2016</td>\n",
              "    </tr>\n",
              "    <tr>\n",
              "      <th>Zhang Wenxiu</th>\n",
              "      <td>134559</td>\n",
              "      <td>30.0</td>\n",
              "      <td>183.0</td>\n",
              "      <td>105.0</td>\n",
              "      <td>2016</td>\n",
              "    </tr>\n",
              "    <tr>\n",
              "      <th>Zoe Michaela  de Toledo</th>\n",
              "      <td>26718</td>\n",
              "      <td>29.0</td>\n",
              "      <td>172.0</td>\n",
              "      <td>58.0</td>\n",
              "      <td>2016</td>\n",
              "    </tr>\n",
              "    <tr>\n",
              "      <th>Zoe Samantha Lee</th>\n",
              "      <td>68222</td>\n",
              "      <td>30.0</td>\n",
              "      <td>176.0</td>\n",
              "      <td>70.0</td>\n",
              "      <td>2016</td>\n",
              "    </tr>\n",
              "    <tr>\n",
              "      <th>sa Nilla Maria Fischer</th>\n",
              "      <td>35526</td>\n",
              "      <td>32.0</td>\n",
              "      <td>176.0</td>\n",
              "      <td>68.0</td>\n",
              "      <td>2016</td>\n",
              "    </tr>\n",
              "  </tbody>\n",
              "</table>\n",
              "<p>648 rows × 5 columns</p>\n",
              "</div>"
            ],
            "text/plain": [
              "                                   ID   Age  Height  Weight  Year\n",
              "Name                                                             \n",
              "Aaron Brown                     15460  24.0   198.0    79.0  2016\n",
              "Abbey Weitzeil                 129476  19.0   178.0    68.0  2016\n",
              "Abdullahi Shehu                109475  23.0   170.0    72.0  2016\n",
              "Adam George Peaty               92529  21.0   191.0    86.0  2016\n",
              "Adelina Maria Cojocariu-Bogus   22287  27.0   186.0    75.0  2016\n",
              "...                               ...   ...     ...     ...   ...\n",
              "Yuliya Andreyevna Yefimova     132765  24.0   178.0    64.0  2016\n",
              "Zhang Wenxiu                   134559  30.0   183.0   105.0  2016\n",
              "Zoe Michaela  de Toledo         26718  29.0   172.0    58.0  2016\n",
              "Zoe Samantha Lee                68222  30.0   176.0    70.0  2016\n",
              "sa Nilla Maria Fischer          35526  32.0   176.0    68.0  2016\n",
              "\n",
              "[648 rows x 5 columns]"
            ]
          },
          "metadata": {},
          "execution_count": 120
        }
      ]
    },
    {
      "cell_type": "markdown",
      "metadata": {
        "id": "N7rN0nmn_fhN"
      },
      "source": [
        "Membuat grafik batang (bar chart) dengan mengambil sampel data 10 teratas pemain terurut berdasarkan abjad. Hal ini dilakukan karena banyaknya pemain dan perlu diambil beberapa agar visualisasi data terlihat baik"
      ]
    },
    {
      "cell_type": "code",
      "metadata": {
        "colab": {
          "base_uri": "https://localhost:8080/",
          "height": 621
        },
        "id": "HcpSm7MpL1r4",
        "outputId": "9ed0ca04-14ca-4259-fd62-9cb8cda31d6e"
      },
      "source": [
        "label = player.head(10).index\n",
        "weight = player['Weight'].head(10)\n",
        "height = player['Height'].head(10)\n",
        "width = 0.35\n",
        "x = np.arange(len(label))\n",
        "\n",
        "fig, ax = plt.subplots(figsize = (15, 10))\n",
        "bar1 = ax.barh(x - width/2, weight, width, label = 'Weight')\n",
        "bar2 = ax.barh(x + width/2, height, width, label = 'Height')\n",
        "\n",
        "ax.set_xlabel('Height and Weight')\n",
        "ax.set_ylabel('Players')\n",
        "ax.set_title('Height and Weight Chart of 10 High Sorted Players based on Medal Winners from 5 Sports in 2016')\n",
        "ax.set_yticks(x)\n",
        "ax.set_yticklabels(label)\n",
        "ax.legend()\n",
        "\n",
        "ax.bar_label(bar1, padding = 3)\n",
        "ax.bar_label(bar2, padding = 3)\n",
        "\n",
        "plt.show()"
      ],
      "execution_count": null,
      "outputs": [
        {
          "output_type": "display_data",
          "data": {
            "image/png": "[encoded data removed]",
            "text/plain": [
              "<Figure size 1080x720 with 1 Axes>"
            ]
          },
          "metadata": {
            "needs_background": "light"
          }
        }
      ]
    },
    {
      "cell_type": "markdown",
      "metadata": {
        "id": "6gpfpzpp2VTb"
      },
      "source": [
        "## Problem 2\n",
        "Buat plot menggunakan teknik visualisasi yang sesuai yang paling baik menyajikan statistik ringkasan untuk tinggi dan berat badan pemain yang memenangkan setiap jenis medali (emas/perak/perunggu) dalam data"
      ]
    },
    {
      "cell_type": "markdown",
      "metadata": {
        "id": "WeQAeExAArTy"
      },
      "source": [
        "Mencari nilai mean pada setiap perolehan medali "
      ]
    },
    {
      "cell_type": "code",
      "metadata": {
        "colab": {
          "base_uri": "https://localhost:8080/",
          "height": 173
        },
        "id": "vCHUOWDj44HG",
        "outputId": "35257b0d-cefa-4ac6-89f7-128df16730e2"
      },
      "source": [
        "grouped_medal = df.groupby('Medal').mean()\n",
        "grouped_medal"
      ],
      "execution_count": null,
      "outputs": [
        {
          "output_type": "execute_result",
          "data": {
            "text/html": [
              "<div>\n",
              "<style scoped>\n",
              "    .dataframe tbody tr th:only-of-type {\n",
              "        vertical-align: middle;\n",
              "    }\n",
              "\n",
              "    .dataframe tbody tr th {\n",
              "        vertical-align: top;\n",
              "    }\n",
              "\n",
              "    .dataframe thead th {\n",
              "        text-align: right;\n",
              "    }\n",
              "</style>\n",
              "<table border=\"1\" class=\"dataframe\">\n",
              "  <thead>\n",
              "    <tr style=\"text-align: right;\">\n",
              "      <th></th>\n",
              "      <th>ID</th>\n",
              "      <th>Age</th>\n",
              "      <th>Height</th>\n",
              "      <th>Weight</th>\n",
              "      <th>Year</th>\n",
              "    </tr>\n",
              "    <tr>\n",
              "      <th>Medal</th>\n",
              "      <th></th>\n",
              "      <th></th>\n",
              "      <th></th>\n",
              "      <th></th>\n",
              "      <th></th>\n",
              "    </tr>\n",
              "  </thead>\n",
              "  <tbody>\n",
              "    <tr>\n",
              "      <th>Bronze</th>\n",
              "      <td>69611.702971</td>\n",
              "      <td>25.879210</td>\n",
              "      <td>176.866630</td>\n",
              "      <td>72.838268</td>\n",
              "      <td>1975.189169</td>\n",
              "    </tr>\n",
              "    <tr>\n",
              "      <th>Gold</th>\n",
              "      <td>69358.276473</td>\n",
              "      <td>25.901013</td>\n",
              "      <td>177.356215</td>\n",
              "      <td>73.372088</td>\n",
              "      <td>1973.131618</td>\n",
              "    </tr>\n",
              "    <tr>\n",
              "      <th>Silver</th>\n",
              "      <td>69249.335011</td>\n",
              "      <td>25.996724</td>\n",
              "      <td>176.981749</td>\n",
              "      <td>72.940280</td>\n",
              "      <td>1973.509607</td>\n",
              "    </tr>\n",
              "  </tbody>\n",
              "</table>\n",
              "</div>"
            ],
            "text/plain": [
              "                  ID        Age      Height     Weight         Year\n",
              "Medal                                                              \n",
              "Bronze  69611.702971  25.879210  176.866630  72.838268  1975.189169\n",
              "Gold    69358.276473  25.901013  177.356215  73.372088  1973.131618\n",
              "Silver  69249.335011  25.996724  176.981749  72.940280  1973.509607"
            ]
          },
          "metadata": {},
          "execution_count": 122
        }
      ]
    },
    {
      "cell_type": "markdown",
      "metadata": {
        "id": "8TJ0Ys19A22L"
      },
      "source": [
        "Membuat grafik batang (bar chart)"
      ]
    },
    {
      "cell_type": "code",
      "metadata": {
        "colab": {
          "base_uri": "https://localhost:8080/",
          "height": 621
        },
        "id": "PsMATsZI61_y",
        "outputId": "ec9d6771-6684-4118-d744-d6e431dc0420"
      },
      "source": [
        "label = grouped_medal.index\n",
        "height = grouped_medal['Height']\n",
        "weight = grouped_medal['Weight']\n",
        "x = np.arange(len(label))\n",
        "width = 0.35\n",
        "\n",
        "fig, ax = plt.subplots(figsize = (15, 10))\n",
        "\n",
        "bar1 = ax.bar(x - width/2, height, width, label = 'Height')\n",
        "bar2 = ax.bar(x + width/2, weight, width, label = 'Weight')\n",
        "\n",
        "ax.set_title('Mean of Height and Weight by Players Who Win a Medals')\n",
        "ax.set_xlabel('Medals')\n",
        "ax.set_ylabel('Mean')\n",
        "ax.set_xticks(x)\n",
        "ax.set_xticklabels(label)\n",
        "ax.legend()\n",
        "\n",
        "ax.bar_label(bar1)\n",
        "ax.bar_label(bar2)\n",
        "\n",
        "plt.show()"
      ],
      "execution_count": null,
      "outputs": [
        {
          "output_type": "display_data",
          "data": {
            "image/png": "[encoded data removed]",
            "text/plain": [
              "<Figure size 1080x720 with 1 Axes>"
            ]
          },
          "metadata": {
            "needs_background": "light"
          }
        }
      ]
    }
  ]
}