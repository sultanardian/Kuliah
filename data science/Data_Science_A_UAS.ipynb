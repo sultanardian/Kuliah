{
  "nbformat": 4,
  "nbformat_minor": 0,
  "metadata": {
    "colab": {
      "name": "Data Science A - UAS.ipynb",
      "provenance": [],
      "include_colab_link": true
    },
    "kernelspec": {
      "name": "python3",
      "display_name": "Python 3"
    },
    "language_info": {
      "name": "python"
    }
  },
  "cells": [
    {
      "cell_type": "markdown",
      "metadata": {
        "id": "view-in-github",
        "colab_type": "text"
      },
      "source": [
        "<a href=\"https://colab.research.google.com/github/sultanardian/kuliah/blob/main/data%20science/Data_Science_A_UAS.ipynb\" target=\"_parent\"><img src=\"https://colab.research.google.com/assets/colab-badge.svg\" alt=\"Open In Colab\"/></a>"
      ]
    },
    {
      "cell_type": "code",
      "metadata": {
        "id": "sg8w6puHJ7sr"
      },
      "source": [
        "import pandas as pd\n",
        "import numpy as np\n"
      ],
      "execution_count": null,
      "outputs": []
    },
    {
      "cell_type": "code",
      "metadata": {
        "colab": {
          "base_uri": "https://localhost:8080/",
          "height": 306
        },
        "id": "K9pcKcr1Kp_p",
        "outputId": "3fdb40a6-6243-49b7-fa1f-3e2e6137c2f5"
      },
      "source": [
        "data = pd.read_excel('/content/drive/MyDrive/Dataset/Supermarket Transactions.xlsx', sheet_name='Data')\n",
        "data.head()"
      ],
      "execution_count": null,
      "outputs": [
        {
          "output_type": "execute_result",
          "data": {
            "text/html": [
              "<div>\n",
              "<style scoped>\n",
              "    .dataframe tbody tr th:only-of-type {\n",
              "        vertical-align: middle;\n",
              "    }\n",
              "\n",
              "    .dataframe tbody tr th {\n",
              "        vertical-align: top;\n",
              "    }\n",
              "\n",
              "    .dataframe thead th {\n",
              "        text-align: right;\n",
              "    }\n",
              "</style>\n",
              "<table border=\"1\" class=\"dataframe\">\n",
              "  <thead>\n",
              "    <tr style=\"text-align: right;\">\n",
              "      <th></th>\n",
              "      <th>Transaction</th>\n",
              "      <th>Purchase Date</th>\n",
              "      <th>Customer ID</th>\n",
              "      <th>Gender</th>\n",
              "      <th>Marital Status</th>\n",
              "      <th>Homeowner</th>\n",
              "      <th>Children</th>\n",
              "      <th>Annual Income</th>\n",
              "      <th>City</th>\n",
              "      <th>State or Province</th>\n",
              "      <th>Country</th>\n",
              "      <th>Product Family</th>\n",
              "      <th>Product Department</th>\n",
              "      <th>Product Category</th>\n",
              "      <th>Units Sold</th>\n",
              "      <th>Revenue</th>\n",
              "    </tr>\n",
              "  </thead>\n",
              "  <tbody>\n",
              "    <tr>\n",
              "      <th>0</th>\n",
              "      <td>1</td>\n",
              "      <td>2011-12-18</td>\n",
              "      <td>7223</td>\n",
              "      <td>F</td>\n",
              "      <td>M</td>\n",
              "      <td>Y</td>\n",
              "      <td>2</td>\n",
              "      <td>$30K - $50K</td>\n",
              "      <td>Los Angeles</td>\n",
              "      <td>CA</td>\n",
              "      <td>USA</td>\n",
              "      <td>Food</td>\n",
              "      <td>Snack Foods</td>\n",
              "      <td>Snack Foods</td>\n",
              "      <td>5</td>\n",
              "      <td>27.38</td>\n",
              "    </tr>\n",
              "    <tr>\n",
              "      <th>1</th>\n",
              "      <td>2</td>\n",
              "      <td>2011-12-20</td>\n",
              "      <td>7841</td>\n",
              "      <td>M</td>\n",
              "      <td>M</td>\n",
              "      <td>Y</td>\n",
              "      <td>5</td>\n",
              "      <td>$70K - $90K</td>\n",
              "      <td>Los Angeles</td>\n",
              "      <td>CA</td>\n",
              "      <td>USA</td>\n",
              "      <td>Food</td>\n",
              "      <td>Produce</td>\n",
              "      <td>Vegetables</td>\n",
              "      <td>5</td>\n",
              "      <td>14.90</td>\n",
              "    </tr>\n",
              "    <tr>\n",
              "      <th>2</th>\n",
              "      <td>3</td>\n",
              "      <td>2011-12-21</td>\n",
              "      <td>8374</td>\n",
              "      <td>F</td>\n",
              "      <td>M</td>\n",
              "      <td>N</td>\n",
              "      <td>2</td>\n",
              "      <td>$50K - $70K</td>\n",
              "      <td>Bremerton</td>\n",
              "      <td>WA</td>\n",
              "      <td>USA</td>\n",
              "      <td>Food</td>\n",
              "      <td>Snack Foods</td>\n",
              "      <td>Snack Foods</td>\n",
              "      <td>3</td>\n",
              "      <td>5.52</td>\n",
              "    </tr>\n",
              "    <tr>\n",
              "      <th>3</th>\n",
              "      <td>4</td>\n",
              "      <td>2011-12-21</td>\n",
              "      <td>9619</td>\n",
              "      <td>M</td>\n",
              "      <td>M</td>\n",
              "      <td>Y</td>\n",
              "      <td>3</td>\n",
              "      <td>$30K - $50K</td>\n",
              "      <td>Portland</td>\n",
              "      <td>OR</td>\n",
              "      <td>USA</td>\n",
              "      <td>Food</td>\n",
              "      <td>Snacks</td>\n",
              "      <td>Candy</td>\n",
              "      <td>4</td>\n",
              "      <td>4.44</td>\n",
              "    </tr>\n",
              "    <tr>\n",
              "      <th>4</th>\n",
              "      <td>5</td>\n",
              "      <td>2011-12-22</td>\n",
              "      <td>1900</td>\n",
              "      <td>F</td>\n",
              "      <td>S</td>\n",
              "      <td>Y</td>\n",
              "      <td>3</td>\n",
              "      <td>$130K - $150K</td>\n",
              "      <td>Beverly Hills</td>\n",
              "      <td>CA</td>\n",
              "      <td>USA</td>\n",
              "      <td>Drink</td>\n",
              "      <td>Beverages</td>\n",
              "      <td>Carbonated Beverages</td>\n",
              "      <td>4</td>\n",
              "      <td>14.00</td>\n",
              "    </tr>\n",
              "  </tbody>\n",
              "</table>\n",
              "</div>"
            ],
            "text/plain": [
              "   Transaction Purchase Date  ...  Units Sold Revenue\n",
              "0            1    2011-12-18  ...           5   27.38\n",
              "1            2    2011-12-20  ...           5   14.90\n",
              "2            3    2011-12-21  ...           3    5.52\n",
              "3            4    2011-12-21  ...           4    4.44\n",
              "4            5    2011-12-22  ...           4   14.00\n",
              "\n",
              "[5 rows x 16 columns]"
            ]
          },
          "metadata": {},
          "execution_count": 2
        }
      ]
    },
    {
      "cell_type": "code",
      "metadata": {
        "colab": {
          "base_uri": "https://localhost:8080/"
        },
        "id": "krATBLun_zh_",
        "outputId": "55f831ba-bd84-4163-9e7a-9486b9d506f1"
      },
      "source": [
        "data[['Revenue', 'Units Sold']].corr().iloc[0, 1]"
      ],
      "execution_count": null,
      "outputs": [
        {
          "output_type": "execute_result",
          "data": {
            "text/plain": [
              "0.29976029993046266"
            ]
          },
          "metadata": {},
          "execution_count": 4
        }
      ]
    },
    {
      "cell_type": "code",
      "metadata": {
        "id": "Fzcih-KQF8ks"
      },
      "source": [
        "data.drop(['Transaction', 'Customer ID'], axis = 1, inplace = True)"
      ],
      "execution_count": null,
      "outputs": []
    },
    {
      "cell_type": "code",
      "metadata": {
        "colab": {
          "base_uri": "https://localhost:8080/",
          "height": 341
        },
        "id": "K6Oz9GKlGMR5",
        "outputId": "e5f2f56c-8edf-4011-ae97-1c4b2f5dedc9"
      },
      "source": [
        "import seaborn as sns\n",
        "import matplotlib.pyplot as plt\n",
        "\n",
        "plt.subplots(figsize = (5, 5))\n",
        "sns.heatmap(data.corr(), annot = True)"
      ],
      "execution_count": null,
      "outputs": [
        {
          "output_type": "execute_result",
          "data": {
            "text/plain": [
              "<matplotlib.axes._subplots.AxesSubplot at 0x7fb51c5df690>"
            ]
          },
          "metadata": {},
          "execution_count": 9
        },
        {
          "output_type": "display_data",
          "data": {
            "image/png": "[encoded data removed]",
            "text/plain": [
              "<Figure size 360x360 with 2 Axes>"
            ]
          },
          "metadata": {
            "needs_background": "light"
          }
        }
      ]
    },
    {
      "cell_type": "code",
      "metadata": {
        "id": "WbDfHrAHeOjS"
      },
      "source": [
        "def correlation_ratio(categories, measurements):\n",
        "    fcat, _ = pd.factorize(categories)\n",
        "    cat_num = np.max(fcat)+1\n",
        "    y_avg_array = np.zeros(cat_num)\n",
        "    n_array = np.zeros(cat_num)\n",
        "    for i in range(0,cat_num):\n",
        "        cat_measures = measurements[np.argwhere(fcat == i).flatten()]\n",
        "        n_array[i] = len(cat_measures)\n",
        "        y_avg_array[i] = np.average(cat_measures)\n",
        "    y_total_avg = np.sum(np.multiply(y_avg_array,n_array))/np.sum(n_array)\n",
        "    numerator = np.sum(np.multiply(n_array,np.power(np.subtract(y_avg_array,y_total_avg),2)))\n",
        "    denominator = np.sum(np.power(np.subtract(measurements,y_total_avg),2))\n",
        "    if numerator == 0:\n",
        "        eta = 0.0\n",
        "    else:\n",
        "        eta = np.sqrt(numerator/denominator)\n",
        "    return eta"
      ],
      "execution_count": null,
      "outputs": []
    },
    {
      "cell_type": "code",
      "metadata": {
        "id": "phhQ7NW6ff2z"
      },
      "source": [
        "data.drop(['Transaction', 'Purchase Date', 'Customer ID'], axis = 1, inplace = True)"
      ],
      "execution_count": null,
      "outputs": []
    },
    {
      "cell_type": "code",
      "metadata": {
        "colab": {
          "base_uri": "https://localhost:8080/",
          "height": 114
        },
        "id": "I903ze6HAzHr",
        "outputId": "e894144a-45b4-4e2b-c223-815b8f73a5e0"
      },
      "source": [
        "temp = []\n",
        "\n",
        "for col in data.columns:\n",
        "    if (data[col].dtypes == 'object'):\n",
        "        temp.append(correlation_ratio(data[col], data['Units Sold']))\n",
        "    elif (data[col].dtypes != 'object'):\n",
        "        temp.append(data[[col, 'Units Sold']].corr().iloc[0, 1])\n",
        "\n",
        "correlation = pd.DataFrame([temp], columns = data.columns, index = ['Units Sold'])\n",
        "correlation"
      ],
      "execution_count": null,
      "outputs": [
        {
          "output_type": "execute_result",
          "data": {
            "text/html": [
              "<div>\n",
              "<style scoped>\n",
              "    .dataframe tbody tr th:only-of-type {\n",
              "        vertical-align: middle;\n",
              "    }\n",
              "\n",
              "    .dataframe tbody tr th {\n",
              "        vertical-align: top;\n",
              "    }\n",
              "\n",
              "    .dataframe thead th {\n",
              "        text-align: right;\n",
              "    }\n",
              "</style>\n",
              "<table border=\"1\" class=\"dataframe\">\n",
              "  <thead>\n",
              "    <tr style=\"text-align: right;\">\n",
              "      <th></th>\n",
              "      <th>Gender</th>\n",
              "      <th>Marital Status</th>\n",
              "      <th>Homeowner</th>\n",
              "      <th>Children</th>\n",
              "      <th>Annual Income</th>\n",
              "      <th>City</th>\n",
              "      <th>State or Province</th>\n",
              "      <th>Country</th>\n",
              "      <th>Product Family</th>\n",
              "      <th>Product Department</th>\n",
              "      <th>Product Category</th>\n",
              "      <th>Units Sold</th>\n",
              "      <th>Revenue</th>\n",
              "    </tr>\n",
              "  </thead>\n",
              "  <tbody>\n",
              "    <tr>\n",
              "      <th>Units Sold</th>\n",
              "      <td>0.009308</td>\n",
              "      <td>0.013401</td>\n",
              "      <td>0.009832</td>\n",
              "      <td>0.123348</td>\n",
              "      <td>0.016418</td>\n",
              "      <td>0.252481</td>\n",
              "      <td>0.100982</td>\n",
              "      <td>0.021446</td>\n",
              "      <td>0.007184</td>\n",
              "      <td>0.044674</td>\n",
              "      <td>0.051664</td>\n",
              "      <td>1.0</td>\n",
              "      <td>0.29976</td>\n",
              "    </tr>\n",
              "  </tbody>\n",
              "</table>\n",
              "</div>"
            ],
            "text/plain": [
              "              Gender  Marital Status  ...  Units Sold  Revenue\n",
              "Units Sold  0.009308        0.013401  ...         1.0  0.29976\n",
              "\n",
              "[1 rows x 13 columns]"
            ]
          },
          "metadata": {},
          "execution_count": 72
        }
      ]
    },
    {
      "cell_type": "code",
      "metadata": {
        "colab": {
          "base_uri": "https://localhost:8080/",
          "height": 612
        },
        "id": "O2XP-8f58Yo_",
        "outputId": "b52a4237-bef5-4cb6-b893-d73878f1fd3a"
      },
      "source": [
        "import seaborn as sns\n",
        "import matplotlib.pyplot as plt\n",
        "\n",
        "plt.subplots(figsize = (10, 10))\n",
        "sns.heatmap(correlation.T   , annot = True)"
      ],
      "execution_count": null,
      "outputs": [
        {
          "output_type": "execute_result",
          "data": {
            "text/plain": [
              "<matplotlib.axes._subplots.AxesSubplot at 0x7fc013e58a10>"
            ]
          },
          "metadata": {},
          "execution_count": 73
        },
        {
          "output_type": "display_data",
          "data": {
            "image/png": "[encoded data removed]",
            "text/plain": [
              "<Figure size 720x720 with 2 Axes>"
            ]
          },
          "metadata": {
            "needs_background": "light"
          }
        }
      ]
    }
  ]
}