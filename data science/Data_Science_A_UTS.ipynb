{
  "nbformat": 4,
  "nbformat_minor": 0,
  "metadata": {
    "colab": {
      "name": "Data Science A - UTS.ipynb",
      "provenance": [],
      "collapsed_sections": [],
      "include_colab_link": true
    },
    "kernelspec": {
      "name": "python3",
      "display_name": "Python 3"
    },
    "language_info": {
      "name": "python"
    }
  },
  "cells": [
    {
      "cell_type": "markdown",
      "metadata": {
        "id": "view-in-github",
        "colab_type": "text"
      },
      "source": [
        "<a href=\"https://colab.research.google.com/github/sultanardian/kuliah/blob/main/data%20science/Data_Science_A_UTS.ipynb\" target=\"_parent\"><img src=\"https://colab.research.google.com/assets/colab-badge.svg\" alt=\"Open In Colab\"/></a>"
      ]
    },
    {
      "cell_type": "code",
      "execution_count": null,
      "metadata": {
        "id": "95-pyuR7CNar"
      },
      "outputs": [],
      "source": [
        "import pandas as pd\n",
        "import matplotlib.pyplot as plt\n",
        "import seaborn as sns\n",
        "import numpy as np"
      ]
    },
    {
      "cell_type": "code",
      "source": [
        "raw_data = pd.read_csv('/content/drive/MyDrive/Dataset/rekomendasi_tanaman.csv')\n",
        "raw_data.sample(10)"
      ],
      "metadata": {
        "colab": {
          "base_uri": "https://localhost:8080/",
          "height": 363
        },
        "id": "HecJVP1yFOfu",
        "outputId": "12998e32-330c-4e86-d296-01eb542f2029"
      },
      "execution_count": null,
      "outputs": [
        {
          "output_type": "execute_result",
          "data": {
            "text/html": [
              "<div>\n",
              "<style scoped>\n",
              "    .dataframe tbody tr th:only-of-type {\n",
              "        vertical-align: middle;\n",
              "    }\n",
              "\n",
              "    .dataframe tbody tr th {\n",
              "        vertical-align: top;\n",
              "    }\n",
              "\n",
              "    .dataframe thead th {\n",
              "        text-align: right;\n",
              "    }\n",
              "</style>\n",
              "<table border=\"1\" class=\"dataframe\">\n",
              "  <thead>\n",
              "    <tr style=\"text-align: right;\">\n",
              "      <th></th>\n",
              "      <th>N</th>\n",
              "      <th>P</th>\n",
              "      <th>K</th>\n",
              "      <th>temperature</th>\n",
              "      <th>humidity</th>\n",
              "      <th>ph</th>\n",
              "      <th>rainfall</th>\n",
              "      <th>label</th>\n",
              "    </tr>\n",
              "  </thead>\n",
              "  <tbody>\n",
              "    <tr>\n",
              "      <th>1167</th>\n",
              "      <td>8</td>\n",
              "      <td>38</td>\n",
              "      <td>32</td>\n",
              "      <td>29.751508</td>\n",
              "      <td>46.737233</td>\n",
              "      <td>4.981817</td>\n",
              "      <td>91.405983</td>\n",
              "      <td>mangga</td>\n",
              "    </tr>\n",
              "    <tr>\n",
              "      <th>1999</th>\n",
              "      <td>120</td>\n",
              "      <td>60</td>\n",
              "      <td>15</td>\n",
              "      <td>22.318719</td>\n",
              "      <td>83.861300</td>\n",
              "      <td>7.288377</td>\n",
              "      <td>65.357470</td>\n",
              "      <td>kapas</td>\n",
              "    </tr>\n",
              "    <tr>\n",
              "      <th>1827</th>\n",
              "      <td>11</td>\n",
              "      <td>6</td>\n",
              "      <td>25</td>\n",
              "      <td>28.691648</td>\n",
              "      <td>96.652487</td>\n",
              "      <td>6.081568</td>\n",
              "      <td>178.963546</td>\n",
              "      <td>kelapa</td>\n",
              "    </tr>\n",
              "    <tr>\n",
              "      <th>534</th>\n",
              "      <td>36</td>\n",
              "      <td>57</td>\n",
              "      <td>16</td>\n",
              "      <td>28.614091</td>\n",
              "      <td>57.142188</td>\n",
              "      <td>8.292876</td>\n",
              "      <td>57.028917</td>\n",
              "      <td>kacang tunggak</td>\n",
              "    </tr>\n",
              "    <tr>\n",
              "      <th>735</th>\n",
              "      <td>25</td>\n",
              "      <td>76</td>\n",
              "      <td>17</td>\n",
              "      <td>31.741054</td>\n",
              "      <td>68.635254</td>\n",
              "      <td>7.241149</td>\n",
              "      <td>62.306173</td>\n",
              "      <td>kacang hitam</td>\n",
              "    </tr>\n",
              "    <tr>\n",
              "      <th>769</th>\n",
              "      <td>42</td>\n",
              "      <td>58</td>\n",
              "      <td>25</td>\n",
              "      <td>27.458536</td>\n",
              "      <td>62.900210</td>\n",
              "      <td>6.513621</td>\n",
              "      <td>69.460209</td>\n",
              "      <td>kacang hitam</td>\n",
              "    </tr>\n",
              "    <tr>\n",
              "      <th>1504</th>\n",
              "      <td>20</td>\n",
              "      <td>129</td>\n",
              "      <td>201</td>\n",
              "      <td>23.410447</td>\n",
              "      <td>91.699133</td>\n",
              "      <td>5.587906</td>\n",
              "      <td>116.077793</td>\n",
              "      <td>apel</td>\n",
              "    </tr>\n",
              "    <tr>\n",
              "      <th>414</th>\n",
              "      <td>27</td>\n",
              "      <td>72</td>\n",
              "      <td>17</td>\n",
              "      <td>28.980394</td>\n",
              "      <td>57.232652</td>\n",
              "      <td>6.347929</td>\n",
              "      <td>120.743566</td>\n",
              "      <td>kacang polong</td>\n",
              "    </tr>\n",
              "    <tr>\n",
              "      <th>1179</th>\n",
              "      <td>0</td>\n",
              "      <td>17</td>\n",
              "      <td>30</td>\n",
              "      <td>35.474783</td>\n",
              "      <td>47.972305</td>\n",
              "      <td>6.279134</td>\n",
              "      <td>97.790725</td>\n",
              "      <td>mangga</td>\n",
              "    </tr>\n",
              "    <tr>\n",
              "      <th>235</th>\n",
              "      <td>28</td>\n",
              "      <td>58</td>\n",
              "      <td>81</td>\n",
              "      <td>17.475010</td>\n",
              "      <td>16.543148</td>\n",
              "      <td>6.180427</td>\n",
              "      <td>93.350343</td>\n",
              "      <td>buncis</td>\n",
              "    </tr>\n",
              "  </tbody>\n",
              "</table>\n",
              "</div>"
            ],
            "text/plain": [
              "        N    P    K  ...        ph    rainfall           label\n",
              "1167    8   38   32  ...  4.981817   91.405983          mangga\n",
              "1999  120   60   15  ...  7.288377   65.357470           kapas\n",
              "1827   11    6   25  ...  6.081568  178.963546          kelapa\n",
              "534    36   57   16  ...  8.292876   57.028917  kacang tunggak\n",
              "735    25   76   17  ...  7.241149   62.306173    kacang hitam\n",
              "769    42   58   25  ...  6.513621   69.460209    kacang hitam\n",
              "1504   20  129  201  ...  5.587906  116.077793            apel\n",
              "414    27   72   17  ...  6.347929  120.743566   kacang polong\n",
              "1179    0   17   30  ...  6.279134   97.790725          mangga\n",
              "235    28   58   81  ...  6.180427   93.350343          buncis\n",
              "\n",
              "[10 rows x 8 columns]"
            ]
          },
          "metadata": {},
          "execution_count": 67
        }
      ]
    },
    {
      "cell_type": "code",
      "source": [
        "data = raw_data.copy()"
      ],
      "metadata": {
        "id": "xwzlW8XXMiut"
      },
      "execution_count": null,
      "outputs": []
    },
    {
      "cell_type": "code",
      "source": [
        "data.columns"
      ],
      "metadata": {
        "colab": {
          "base_uri": "https://localhost:8080/"
        },
        "id": "wDpileNlFMxI",
        "outputId": "bcb8b655-04ea-4107-c504-8f3215ac2b09"
      },
      "execution_count": null,
      "outputs": [
        {
          "output_type": "execute_result",
          "data": {
            "text/plain": [
              "Index(['N', 'P', 'K', 'temperature', 'humidity', 'ph', 'rainfall', 'label'], dtype='object')"
            ]
          },
          "metadata": {},
          "execution_count": 69
        }
      ]
    },
    {
      "cell_type": "code",
      "source": [
        "data['label'].unique()"
      ],
      "metadata": {
        "colab": {
          "base_uri": "https://localhost:8080/"
        },
        "id": "puVFRQPvPhnR",
        "outputId": "7ff3249b-6d5b-4121-975f-8de88b380448"
      },
      "execution_count": null,
      "outputs": [
        {
          "output_type": "execute_result",
          "data": {
            "text/plain": [
              "array(['beras', 'jagung', 'buncis', 'kacang merah', 'kacang polong',\n",
              "       'kacang tunggak', 'kacang hijau', 'kacang hitam', 'kacang lentil',\n",
              "       'delima', 'pisang', 'mangga', 'anggur', 'semangka', 'melon musk',\n",
              "       'apel', 'jeruk', 'pepaya', 'kelapa', 'kapas', 'rami', 'kopi'],\n",
              "      dtype=object)"
            ]
          },
          "metadata": {},
          "execution_count": 70
        }
      ]
    },
    {
      "cell_type": "code",
      "source": [
        "data.shape"
      ],
      "metadata": {
        "colab": {
          "base_uri": "https://localhost:8080/"
        },
        "id": "TWAz1I3GFDpV",
        "outputId": "8573abcc-3c6b-4993-bfec-765b09952091"
      },
      "execution_count": null,
      "outputs": [
        {
          "output_type": "execute_result",
          "data": {
            "text/plain": [
              "(2200, 8)"
            ]
          },
          "metadata": {},
          "execution_count": 71
        }
      ]
    },
    {
      "cell_type": "code",
      "source": [
        "data.info()"
      ],
      "metadata": {
        "colab": {
          "base_uri": "https://localhost:8080/"
        },
        "id": "tXc9qHmxGVgN",
        "outputId": "6f77d536-01b9-4144-eb1f-5df1aebf35b7"
      },
      "execution_count": null,
      "outputs": [
        {
          "output_type": "stream",
          "name": "stdout",
          "text": [
            "<class 'pandas.core.frame.DataFrame'>\n",
            "RangeIndex: 2200 entries, 0 to 2199\n",
            "Data columns (total 8 columns):\n",
            " #   Column       Non-Null Count  Dtype  \n",
            "---  ------       --------------  -----  \n",
            " 0   N            2200 non-null   int64  \n",
            " 1   P            2200 non-null   int64  \n",
            " 2   K            2200 non-null   int64  \n",
            " 3   temperature  2200 non-null   float64\n",
            " 4   humidity     2200 non-null   float64\n",
            " 5   ph           2200 non-null   float64\n",
            " 6   rainfall     2200 non-null   float64\n",
            " 7   label        2200 non-null   object \n",
            "dtypes: float64(4), int64(3), object(1)\n",
            "memory usage: 137.6+ KB\n"
          ]
        }
      ]
    },
    {
      "cell_type": "code",
      "source": [
        "data.isnull().sum()"
      ],
      "metadata": {
        "colab": {
          "base_uri": "https://localhost:8080/"
        },
        "id": "SVgsIruBFvAP",
        "outputId": "6c578a87-fa73-44c3-8b09-5f0c05643f89"
      },
      "execution_count": null,
      "outputs": [
        {
          "output_type": "execute_result",
          "data": {
            "text/plain": [
              "N              0\n",
              "P              0\n",
              "K              0\n",
              "temperature    0\n",
              "humidity       0\n",
              "ph             0\n",
              "rainfall       0\n",
              "label          0\n",
              "dtype: int64"
            ]
          },
          "metadata": {},
          "execution_count": 73
        }
      ]
    },
    {
      "cell_type": "code",
      "source": [
        "data.duplicated().sum()"
      ],
      "metadata": {
        "colab": {
          "base_uri": "https://localhost:8080/"
        },
        "id": "1SPF0LCTGBXj",
        "outputId": "a3b0c6c9-16db-459c-dc3e-f7689ba14dbe"
      },
      "execution_count": null,
      "outputs": [
        {
          "output_type": "execute_result",
          "data": {
            "text/plain": [
              "0"
            ]
          },
          "metadata": {},
          "execution_count": 74
        }
      ]
    },
    {
      "cell_type": "code",
      "source": [
        "data.skew()"
      ],
      "metadata": {
        "colab": {
          "base_uri": "https://localhost:8080/"
        },
        "id": "_wq2RLvquqnY",
        "outputId": "db41e09b-4bae-4a45-f5e8-71fbcef40e1d"
      },
      "execution_count": null,
      "outputs": [
        {
          "output_type": "execute_result",
          "data": {
            "text/plain": [
              "N              0.509721\n",
              "P              1.010773\n",
              "K              2.375167\n",
              "temperature    0.184933\n",
              "humidity      -1.091708\n",
              "ph             0.283929\n",
              "rainfall       0.965756\n",
              "dtype: float64"
            ]
          },
          "metadata": {},
          "execution_count": 75
        }
      ]
    },
    {
      "cell_type": "code",
      "source": [
        "data.kurt()"
      ],
      "metadata": {
        "colab": {
          "base_uri": "https://localhost:8080/"
        },
        "id": "wds8g4oJRlMg",
        "outputId": "d53876a7-9765-4fea-822d-7da9997f77c8"
      },
      "execution_count": null,
      "outputs": [
        {
          "output_type": "execute_result",
          "data": {
            "text/plain": [
              "N             -1.058240\n",
              "P              0.860279\n",
              "K              4.449354\n",
              "temperature    1.232555\n",
              "humidity       0.302134\n",
              "ph             1.655581\n",
              "rainfall       0.607079\n",
              "dtype: float64"
            ]
          },
          "metadata": {},
          "execution_count": 76
        }
      ]
    },
    {
      "cell_type": "code",
      "source": [
        "feat_cols = data.drop('label', axis = 1).columns"
      ],
      "metadata": {
        "id": "8YoapHzB6klq"
      },
      "execution_count": null,
      "outputs": []
    },
    {
      "cell_type": "code",
      "source": [
        "fig, ax = plt.subplots(3, 3, figsize = (15, 15), sharex = True)\n",
        "\n",
        "x, y = 0, 0\n",
        "for col in feat_cols:\n",
        "    sns.distplot(data[col], ax = ax[x, y])\n",
        "    ax[x, y].set_xlabel(col)\n",
        "    y += 1\n",
        "    if y == 3:\n",
        "        x += 1\n",
        "        y = 0\n",
        "plt.show()"
      ],
      "metadata": {
        "colab": {
          "base_uri": "https://localhost:8080/",
          "height": 1000
        },
        "id": "CdO5yBYb3uf1",
        "outputId": "672ff7f0-5fe5-44e8-984b-18b1d9b1543f"
      },
      "execution_count": null,
      "outputs": [
        {
          "output_type": "stream",
          "name": "stderr",
          "text": [
            "/usr/local/lib/python3.7/dist-packages/seaborn/distributions.py:2619: FutureWarning: `distplot` is a deprecated function and will be removed in a future version. Please adapt your code to use either `displot` (a figure-level function with similar flexibility) or `histplot` (an axes-level function for histograms).\n",
            "  warnings.warn(msg, FutureWarning)\n",
            "/usr/local/lib/python3.7/dist-packages/seaborn/distributions.py:2619: FutureWarning: `distplot` is a deprecated function and will be removed in a future version. Please adapt your code to use either `displot` (a figure-level function with similar flexibility) or `histplot` (an axes-level function for histograms).\n",
            "  warnings.warn(msg, FutureWarning)\n",
            "/usr/local/lib/python3.7/dist-packages/seaborn/distributions.py:2619: FutureWarning: `distplot` is a deprecated function and will be removed in a future version. Please adapt your code to use either `displot` (a figure-level function with similar flexibility) or `histplot` (an axes-level function for histograms).\n",
            "  warnings.warn(msg, FutureWarning)\n",
            "/usr/local/lib/python3.7/dist-packages/seaborn/distributions.py:2619: FutureWarning: `distplot` is a deprecated function and will be removed in a future version. Please adapt your code to use either `displot` (a figure-level function with similar flexibility) or `histplot` (an axes-level function for histograms).\n",
            "  warnings.warn(msg, FutureWarning)\n",
            "/usr/local/lib/python3.7/dist-packages/seaborn/distributions.py:2619: FutureWarning: `distplot` is a deprecated function and will be removed in a future version. Please adapt your code to use either `displot` (a figure-level function with similar flexibility) or `histplot` (an axes-level function for histograms).\n",
            "  warnings.warn(msg, FutureWarning)\n",
            "/usr/local/lib/python3.7/dist-packages/seaborn/distributions.py:2619: FutureWarning: `distplot` is a deprecated function and will be removed in a future version. Please adapt your code to use either `displot` (a figure-level function with similar flexibility) or `histplot` (an axes-level function for histograms).\n",
            "  warnings.warn(msg, FutureWarning)\n",
            "/usr/local/lib/python3.7/dist-packages/seaborn/distributions.py:2619: FutureWarning: `distplot` is a deprecated function and will be removed in a future version. Please adapt your code to use either `displot` (a figure-level function with similar flexibility) or `histplot` (an axes-level function for histograms).\n",
            "  warnings.warn(msg, FutureWarning)\n"
          ]
        },
        {
          "output_type": "display_data",
          "data": {
            "image/png": "[encoded data removed]",
            "text/plain": [
              "<Figure size 1080x1080 with 9 Axes>"
            ]
          },
          "metadata": {
            "needs_background": "light"
          }
        }
      ]
    },
    {
      "cell_type": "code",
      "source": [
        "from scipy.stats import norm\n",
        "sns.distplot(data['P'], fit = norm)"
      ],
      "metadata": {
        "colab": {
          "base_uri": "https://localhost:8080/",
          "height": 351
        },
        "id": "AtzA_p1kplbq",
        "outputId": "ea804e50-6823-484c-e580-43490e1a4f4b"
      },
      "execution_count": null,
      "outputs": [
        {
          "output_type": "stream",
          "name": "stderr",
          "text": [
            "/usr/local/lib/python3.7/dist-packages/seaborn/distributions.py:2619: FutureWarning: `distplot` is a deprecated function and will be removed in a future version. Please adapt your code to use either `displot` (a figure-level function with similar flexibility) or `histplot` (an axes-level function for histograms).\n",
            "  warnings.warn(msg, FutureWarning)\n"
          ]
        },
        {
          "output_type": "execute_result",
          "data": {
            "text/plain": [
              "<matplotlib.axes._subplots.AxesSubplot at 0x7f956768e310>"
            ]
          },
          "metadata": {},
          "execution_count": 79
        },
        {
          "output_type": "display_data",
          "data": {
            "image/png": "[encoded data removed]",
            "text/plain": [
              "<Figure size 432x288 with 1 Axes>"
            ]
          },
          "metadata": {
            "needs_background": "light"
          }
        }
      ]
    },
    {
      "cell_type": "code",
      "source": [
        "sns.distplot(data['P'])"
      ],
      "metadata": {
        "colab": {
          "base_uri": "https://localhost:8080/",
          "height": 351
        },
        "id": "9DAmD2_FopR6",
        "outputId": "3d01af62-d8c0-48dc-e6dc-614ffa2619e1"
      },
      "execution_count": null,
      "outputs": [
        {
          "output_type": "stream",
          "name": "stderr",
          "text": [
            "/usr/local/lib/python3.7/dist-packages/seaborn/distributions.py:2619: FutureWarning: `distplot` is a deprecated function and will be removed in a future version. Please adapt your code to use either `displot` (a figure-level function with similar flexibility) or `histplot` (an axes-level function for histograms).\n",
            "  warnings.warn(msg, FutureWarning)\n"
          ]
        },
        {
          "output_type": "execute_result",
          "data": {
            "text/plain": [
              "<matplotlib.axes._subplots.AxesSubplot at 0x7f9567401350>"
            ]
          },
          "metadata": {},
          "execution_count": 80
        },
        {
          "output_type": "display_data",
          "data": {
            "image/png": "[encoded data removed]",
            "text/plain": [
              "<Figure size 432x288 with 1 Axes>"
            ]
          },
          "metadata": {
            "needs_background": "light"
          }
        }
      ]
    },
    {
      "cell_type": "code",
      "source": [
        "plt.figure(figsize = (15, 10))\n",
        "data.boxplot()"
      ],
      "metadata": {
        "id": "Jt137XxrWEug",
        "colab": {
          "base_uri": "https://localhost:8080/",
          "height": 609
        },
        "outputId": "dc7f81ec-7432-4ce1-e945-e298878db110"
      },
      "execution_count": null,
      "outputs": [
        {
          "output_type": "execute_result",
          "data": {
            "text/plain": [
              "<matplotlib.axes._subplots.AxesSubplot at 0x7f956aaa7590>"
            ]
          },
          "metadata": {},
          "execution_count": 81
        },
        {
          "output_type": "display_data",
          "data": {
            "image/png": "[encoded data removed]",
            "text/plain": [
              "<Figure size 1080x720 with 1 Axes>"
            ]
          },
          "metadata": {
            "needs_background": "light"
          }
        }
      ]
    },
    {
      "cell_type": "code",
      "source": [
        "data_pred = data[['humidity', 'ph', 'rainfall', 'label']]"
      ],
      "metadata": {
        "id": "KYpFkqMxsZMr"
      },
      "execution_count": null,
      "outputs": []
    },
    {
      "cell_type": "code",
      "source": [
        "feat_cols = ['humidity', 'ph', 'rainfall']\n",
        "\n",
        "Q1 = data_pred[feat_cols].quantile(.25)\n",
        "Q3 = data_pred[feat_cols].quantile(.75)\n",
        "IQR = Q3 - Q1\n",
        "\n",
        "data_pred[feat_cols] = data_pred[feat_cols][~((data_pred[feat_cols] < Q1 - (IQR * 1.5)) | (data_pred[feat_cols] > Q3 + (IQR * 1.5)))]"
      ],
      "metadata": {
        "colab": {
          "base_uri": "https://localhost:8080/"
        },
        "id": "x3FP1iWtswHT",
        "outputId": "aa79d0a5-e453-4d0a-d1de-60fd9a22c2b2"
      },
      "execution_count": null,
      "outputs": [
        {
          "output_type": "stream",
          "name": "stderr",
          "text": [
            "/usr/local/lib/python3.7/dist-packages/pandas/core/frame.py:3069: SettingWithCopyWarning: \n",
            "A value is trying to be set on a copy of a slice from a DataFrame.\n",
            "Try using .loc[row_indexer,col_indexer] = value instead\n",
            "\n",
            "See the caveats in the documentation: https://pandas.pydata.org/pandas-docs/stable/user_guide/indexing.html#returning-a-view-versus-a-copy\n",
            "  self[k1] = value[k2]\n"
          ]
        }
      ]
    },
    {
      "cell_type": "code",
      "source": [
        "data_pred.isnull().sum()"
      ],
      "metadata": {
        "colab": {
          "base_uri": "https://localhost:8080/"
        },
        "id": "MZMhHJ9tvSKq",
        "outputId": "47c1a454-758b-4a1d-8b18-f8ff1d0372ef"
      },
      "execution_count": null,
      "outputs": [
        {
          "output_type": "execute_result",
          "data": {
            "text/plain": [
              "humidity     30\n",
              "ph           57\n",
              "rainfall    100\n",
              "label         0\n",
              "dtype: int64"
            ]
          },
          "metadata": {},
          "execution_count": 84
        }
      ]
    },
    {
      "cell_type": "code",
      "source": [
        "data_pred.dropna(inplace = True)"
      ],
      "metadata": {
        "colab": {
          "base_uri": "https://localhost:8080/"
        },
        "id": "EjQ6RL0dxIGZ",
        "outputId": "ad61e66a-c1f3-42f3-d30e-6be34a1c608a"
      },
      "execution_count": null,
      "outputs": [
        {
          "output_type": "stream",
          "name": "stderr",
          "text": [
            "/usr/local/lib/python3.7/dist-packages/ipykernel_launcher.py:1: SettingWithCopyWarning: \n",
            "A value is trying to be set on a copy of a slice from a DataFrame\n",
            "\n",
            "See the caveats in the documentation: https://pandas.pydata.org/pandas-docs/stable/user_guide/indexing.html#returning-a-view-versus-a-copy\n",
            "  \"\"\"Entry point for launching an IPython kernel.\n"
          ]
        }
      ]
    },
    {
      "cell_type": "code",
      "source": [
        "data_pred.isnull().sum()"
      ],
      "metadata": {
        "colab": {
          "base_uri": "https://localhost:8080/"
        },
        "id": "znaGsz1Vxo3H",
        "outputId": "26f054d7-de22-4559-980c-db2b7e64822d"
      },
      "execution_count": null,
      "outputs": [
        {
          "output_type": "execute_result",
          "data": {
            "text/plain": [
              "humidity    0\n",
              "ph          0\n",
              "rainfall    0\n",
              "label       0\n",
              "dtype: int64"
            ]
          },
          "metadata": {},
          "execution_count": 86
        }
      ]
    },
    {
      "cell_type": "code",
      "source": [
        "data_pred.sample(10)"
      ],
      "metadata": {
        "colab": {
          "base_uri": "https://localhost:8080/",
          "height": 363
        },
        "id": "ccytxfRjNFjW",
        "outputId": "b5cc60e4-991d-4f09-a5dd-e3546d9e4092"
      },
      "execution_count": null,
      "outputs": [
        {
          "output_type": "execute_result",
          "data": {
            "text/html": [
              "<div>\n",
              "<style scoped>\n",
              "    .dataframe tbody tr th:only-of-type {\n",
              "        vertical-align: middle;\n",
              "    }\n",
              "\n",
              "    .dataframe tbody tr th {\n",
              "        vertical-align: top;\n",
              "    }\n",
              "\n",
              "    .dataframe thead th {\n",
              "        text-align: right;\n",
              "    }\n",
              "</style>\n",
              "<table border=\"1\" class=\"dataframe\">\n",
              "  <thead>\n",
              "    <tr style=\"text-align: right;\">\n",
              "      <th></th>\n",
              "      <th>humidity</th>\n",
              "      <th>ph</th>\n",
              "      <th>rainfall</th>\n",
              "      <th>label</th>\n",
              "    </tr>\n",
              "  </thead>\n",
              "  <tbody>\n",
              "    <tr>\n",
              "      <th>1491</th>\n",
              "      <td>94.291195</td>\n",
              "      <td>6.067665</td>\n",
              "      <td>27.212440</td>\n",
              "      <td>melon musk</td>\n",
              "    </tr>\n",
              "    <tr>\n",
              "      <th>187</th>\n",
              "      <td>63.318020</td>\n",
              "      <td>6.330554</td>\n",
              "      <td>74.520820</td>\n",
              "      <td>jagung</td>\n",
              "    </tr>\n",
              "    <tr>\n",
              "      <th>29</th>\n",
              "      <td>80.644165</td>\n",
              "      <td>6.043305</td>\n",
              "      <td>197.979121</td>\n",
              "      <td>beras</td>\n",
              "    </tr>\n",
              "    <tr>\n",
              "      <th>331</th>\n",
              "      <td>24.540383</td>\n",
              "      <td>5.724242</td>\n",
              "      <td>105.412051</td>\n",
              "      <td>kacang merah</td>\n",
              "    </tr>\n",
              "    <tr>\n",
              "      <th>1715</th>\n",
              "      <td>94.607618</td>\n",
              "      <td>6.692156</td>\n",
              "      <td>172.478806</td>\n",
              "      <td>pepaya</td>\n",
              "    </tr>\n",
              "    <tr>\n",
              "      <th>1339</th>\n",
              "      <td>81.402974</td>\n",
              "      <td>6.940236</td>\n",
              "      <td>48.478333</td>\n",
              "      <td>semangka</td>\n",
              "    </tr>\n",
              "    <tr>\n",
              "      <th>831</th>\n",
              "      <td>61.184582</td>\n",
              "      <td>6.868882</td>\n",
              "      <td>53.139467</td>\n",
              "      <td>kacang lentil</td>\n",
              "    </tr>\n",
              "    <tr>\n",
              "      <th>983</th>\n",
              "      <td>89.021270</td>\n",
              "      <td>5.627186</td>\n",
              "      <td>106.160683</td>\n",
              "      <td>delima</td>\n",
              "    </tr>\n",
              "    <tr>\n",
              "      <th>1698</th>\n",
              "      <td>90.949297</td>\n",
              "      <td>7.871063</td>\n",
              "      <td>107.086209</td>\n",
              "      <td>jeruk</td>\n",
              "    </tr>\n",
              "    <tr>\n",
              "      <th>1773</th>\n",
              "      <td>92.251975</td>\n",
              "      <td>6.770385</td>\n",
              "      <td>88.130077</td>\n",
              "      <td>pepaya</td>\n",
              "    </tr>\n",
              "  </tbody>\n",
              "</table>\n",
              "</div>"
            ],
            "text/plain": [
              "       humidity        ph    rainfall          label\n",
              "1491  94.291195  6.067665   27.212440     melon musk\n",
              "187   63.318020  6.330554   74.520820         jagung\n",
              "29    80.644165  6.043305  197.979121          beras\n",
              "331   24.540383  5.724242  105.412051   kacang merah\n",
              "1715  94.607618  6.692156  172.478806         pepaya\n",
              "1339  81.402974  6.940236   48.478333       semangka\n",
              "831   61.184582  6.868882   53.139467  kacang lentil\n",
              "983   89.021270  5.627186  106.160683         delima\n",
              "1698  90.949297  7.871063  107.086209          jeruk\n",
              "1773  92.251975  6.770385   88.130077         pepaya"
            ]
          },
          "metadata": {},
          "execution_count": 87
        }
      ]
    },
    {
      "cell_type": "code",
      "source": [
        "data_pred['label'].unique()"
      ],
      "metadata": {
        "colab": {
          "base_uri": "https://localhost:8080/"
        },
        "id": "-lMiHzqnrLc_",
        "outputId": "792fd772-3e1b-4a2f-b139-74b619ba9b9b"
      },
      "execution_count": null,
      "outputs": [
        {
          "output_type": "execute_result",
          "data": {
            "text/plain": [
              "array(['beras', 'jagung', 'buncis', 'kacang merah', 'kacang polong',\n",
              "       'kacang tunggak', 'kacang hijau', 'kacang hitam', 'kacang lentil',\n",
              "       'delima', 'pisang', 'mangga', 'anggur', 'semangka', 'melon musk',\n",
              "       'apel', 'jeruk', 'pepaya', 'kelapa', 'kapas', 'rami', 'kopi'],\n",
              "      dtype=object)"
            ]
          },
          "metadata": {},
          "execution_count": 88
        }
      ]
    },
    {
      "cell_type": "code",
      "source": [
        "from sklearn.preprocessing import LabelEncoder\n",
        "\n",
        "data_pred['label'] = LabelEncoder().fit_transform(data_pred['label'])"
      ],
      "metadata": {
        "colab": {
          "base_uri": "https://localhost:8080/"
        },
        "id": "CPDNAFxKP9tm",
        "outputId": "bbff6383-a696-47b1-ee0f-c674ec4a9798"
      },
      "execution_count": null,
      "outputs": [
        {
          "output_type": "stream",
          "name": "stderr",
          "text": [
            "/usr/local/lib/python3.7/dist-packages/ipykernel_launcher.py:3: SettingWithCopyWarning: \n",
            "A value is trying to be set on a copy of a slice from a DataFrame.\n",
            "Try using .loc[row_indexer,col_indexer] = value instead\n",
            "\n",
            "See the caveats in the documentation: https://pandas.pydata.org/pandas-docs/stable/user_guide/indexing.html#returning-a-view-versus-a-copy\n",
            "  This is separate from the ipykernel package so we can avoid doing imports until\n"
          ]
        }
      ]
    },
    {
      "cell_type": "code",
      "source": [
        "data_pred['label'].unique()"
      ],
      "metadata": {
        "colab": {
          "base_uri": "https://localhost:8080/"
        },
        "id": "h1gCVPnjrFuV",
        "outputId": "b3721704-c9e9-440f-cbf8-b7652e2c607a"
      },
      "execution_count": null,
      "outputs": [
        {
          "output_type": "execute_result",
          "data": {
            "text/plain": [
              "array([ 2,  5,  3, 10, 11, 12,  7,  8,  9,  4, 19, 16,  0, 21, 17,  1,  6,\n",
              "       18, 14, 13, 20, 15])"
            ]
          },
          "metadata": {},
          "execution_count": 90
        }
      ]
    },
    {
      "cell_type": "code",
      "source": [
        "from sklearn.model_selection import train_test_split\n",
        "\n",
        "X = data_pred.drop('label', axis = 1)\n",
        "y = data_pred['label']\n",
        "\n",
        "X_train, X_test, y_train, y_test = train_test_split(X, y, test_size = 0.2, random_state = 42)"
      ],
      "metadata": {
        "id": "uJ-FnGtKQYoF"
      },
      "execution_count": null,
      "outputs": []
    },
    {
      "cell_type": "code",
      "source": [
        "print('Bentuk data training : \\nX_train {}\\ny_train {}'.format(X_train.shape, y_train.shape))\n",
        "print('\\nBentuk data testing : \\nX_test {}\\ny_test {}'.format(X_test.shape, y_test.shape))"
      ],
      "metadata": {
        "colab": {
          "base_uri": "https://localhost:8080/"
        },
        "id": "fi7hxVrwtO01",
        "outputId": "e380ddb7-324c-4566-8121-342dcd3816a9"
      },
      "execution_count": null,
      "outputs": [
        {
          "output_type": "stream",
          "name": "stdout",
          "text": [
            "Bentuk data training : \n",
            "X_train (1611, 3)\n",
            "y_train (1611,)\n",
            "\n",
            "Bentuk data testing : \n",
            "X_test (403, 3)\n",
            "y_test (403,)\n"
          ]
        }
      ]
    },
    {
      "cell_type": "code",
      "source": [
        "from sklearn.ensemble import RandomForestClassifier\n",
        "\n",
        "rfc = RandomForestClassifier(n_estimators = 10)\n",
        "rfc2 = RandomForestClassifier(n_estimators = 50)\n",
        "rfc3 = RandomForestClassifier(n_estimators = 100)"
      ],
      "metadata": {
        "id": "oCUlhELiSuiQ"
      },
      "execution_count": null,
      "outputs": []
    },
    {
      "cell_type": "code",
      "source": [
        "from sklearn.model_selection import cross_val_score\n",
        "\n",
        "cross_val_score(rfc, X_train, y_train, cv = 3).mean()"
      ],
      "metadata": {
        "colab": {
          "base_uri": "https://localhost:8080/"
        },
        "id": "Om0YeNgbmGmW",
        "outputId": "baefd53c-449e-4379-91b9-02354cba9e22"
      },
      "execution_count": null,
      "outputs": [
        {
          "output_type": "execute_result",
          "data": {
            "text/plain": [
              "0.8504034761018001"
            ]
          },
          "metadata": {},
          "execution_count": 36
        }
      ]
    },
    {
      "cell_type": "code",
      "source": [
        "from sklearn.model_selection import cross_val_score\n",
        "\n",
        "cross_val_score(rfc2, X_train, y_train, cv = 3).mean()"
      ],
      "metadata": {
        "colab": {
          "base_uri": "https://localhost:8080/"
        },
        "id": "64s_z_8LGvED",
        "outputId": "6994ce71-5f84-443f-a549-ee367489f52b"
      },
      "execution_count": null,
      "outputs": [
        {
          "output_type": "execute_result",
          "data": {
            "text/plain": [
              "0.8764742396027313"
            ]
          },
          "metadata": {},
          "execution_count": 37
        }
      ]
    },
    {
      "cell_type": "code",
      "source": [
        "from sklearn.model_selection import cross_val_score\n",
        "\n",
        "cross_val_score(rfc3, X_train, y_train, cv = 3).mean()"
      ],
      "metadata": {
        "colab": {
          "base_uri": "https://localhost:8080/"
        },
        "id": "Emqv__doGvjl",
        "outputId": "61df360e-c209-4324-dfa7-4e7b6266e6b2"
      },
      "execution_count": null,
      "outputs": [
        {
          "output_type": "execute_result",
          "data": {
            "text/plain": [
              "0.8795779019242707"
            ]
          },
          "metadata": {},
          "execution_count": 38
        }
      ]
    },
    {
      "cell_type": "code",
      "source": [
        "print('RFC 1 : ', cross_val_score(rfc, X_train, y_train, cv = 3).mean())\n",
        "print('\\nRFC 2 : ', cross_val_score(rfc2, X_train, y_train, cv = 3).mean())\n",
        "print('\\nRFC 3 : ', cross_val_score(rfc3, X_train, y_train, cv = 3).mean())"
      ],
      "metadata": {
        "colab": {
          "base_uri": "https://localhost:8080/"
        },
        "id": "is0ziPe7uweW",
        "outputId": "2afbbd06-303e-4549-8d73-2d7aa2edaa28"
      },
      "execution_count": null,
      "outputs": [
        {
          "output_type": "stream",
          "name": "stdout",
          "text": [
            "RFC 1 :  0.8659217877094972\n",
            "\n",
            "RFC 2 :  0.8783364369956548\n",
            "\n",
            "RFC 3 :  0.8789571694599627\n"
          ]
        }
      ]
    },
    {
      "cell_type": "code",
      "source": [
        "rfc3.fit(X_train, y_train)"
      ],
      "metadata": {
        "colab": {
          "base_uri": "https://localhost:8080/"
        },
        "id": "HSLKYdIeHDcm",
        "outputId": "0db5edfd-bb21-421f-a0a3-238f07418a5b"
      },
      "execution_count": null,
      "outputs": [
        {
          "output_type": "execute_result",
          "data": {
            "text/plain": [
              "RandomForestClassifier()"
            ]
          },
          "metadata": {},
          "execution_count": 39
        }
      ]
    },
    {
      "cell_type": "code",
      "source": [
        "from sklearn.metrics import accuracy_score, classification_report, confusion_matrix\n",
        "\n",
        "y_pred = rfc3.predict(X_test)\n",
        "print('Accuracy Score :\\n', accuracy_score(y_test, y_pred))\n",
        "print('\\nClassification Report :\\n', classification_report(y_test, y_pred))\n",
        "print('\\nConfusion Matrix :\\n', confusion_matrix(y_test, y_pred))"
      ],
      "metadata": {
        "colab": {
          "base_uri": "https://localhost:8080/"
        },
        "id": "tm3An2hqJm3Q",
        "outputId": "18121c74-6b6a-46ba-f4c0-c89637ced41b"
      },
      "execution_count": null,
      "outputs": [
        {
          "output_type": "stream",
          "name": "stdout",
          "text": [
            "Accuracy Score :\n",
            " 0.8808933002481389\n",
            "\n",
            "Classification Report :\n",
            "               precision    recall  f1-score   support\n",
            "\n",
            "           0       1.00      1.00      1.00        20\n",
            "           1       0.81      0.85      0.83        20\n",
            "           2       0.00      0.00      0.00         3\n",
            "           3       1.00      1.00      1.00         8\n",
            "           4       0.65      0.73      0.69        15\n",
            "           5       0.88      0.88      0.88        24\n",
            "           6       0.63      0.63      0.63        19\n",
            "           7       0.72      0.75      0.73        24\n",
            "           8       0.84      0.94      0.89        17\n",
            "           9       0.89      1.00      0.94        16\n",
            "          10       1.00      1.00      1.00        21\n",
            "          11       0.95      0.76      0.84        25\n",
            "          12       1.00      0.75      0.86        12\n",
            "          13       1.00      0.90      0.95        20\n",
            "          14       1.00      1.00      1.00        14\n",
            "          15       0.86      0.96      0.91        25\n",
            "          16       1.00      1.00      1.00        22\n",
            "          17       1.00      1.00      1.00        29\n",
            "          18       1.00      0.84      0.91        19\n",
            "          19       0.89      1.00      0.94        17\n",
            "          20       0.81      1.00      0.90        13\n",
            "          21       0.70      0.70      0.70        20\n",
            "\n",
            "    accuracy                           0.88       403\n",
            "   macro avg       0.85      0.85      0.85       403\n",
            "weighted avg       0.88      0.88      0.88       403\n",
            "\n",
            "\n",
            "Confusion Matrix :\n",
            " [[20  0  0  0  0  0  0  0  0  0  0  0  0  0  0  0  0  0  0  0  0  0]\n",
            " [ 0 17  0  0  0  0  3  0  0  0  0  0  0  0  0  0  0  0  0  0  0  0]\n",
            " [ 0  0  0  0  0  0  0  0  0  0  0  0  0  0  0  0  0  0  0  0  3  0]\n",
            " [ 0  0  0  8  0  0  0  0  0  0  0  0  0  0  0  0  0  0  0  0  0  0]\n",
            " [ 0  2  0  0 11  0  2  0  0  0  0  0  0  0  0  0  0  0  0  0  0  0]\n",
            " [ 0  0  0  0  0 21  0  0  2  0  0  0  0  0  0  0  0  0  0  1  0  0]\n",
            " [ 0  2  0  0  5  0 12  0  0  0  0  0  0  0  0  0  0  0  0  0  0  0]\n",
            " [ 0  0  0  0  0  0  0 18  0  0  0  0  0  0  0  0  0  0  0  0  0  6]\n",
            " [ 0  0  0  0  0  1  0  0 16  0  0  0  0  0  0  0  0  0  0  0  0  0]\n",
            " [ 0  0  0  0  0  0  0  0  0 16  0  0  0  0  0  0  0  0  0  0  0  0]\n",
            " [ 0  0  0  0  0  0  0  0  0  0 21  0  0  0  0  0  0  0  0  0  0  0]\n",
            " [ 0  0  0  0  0  2  0  0  0  0  0 19  0  0  0  4  0  0  0  0  0  0]\n",
            " [ 0  0  0  0  0  0  0  0  1  2  0  0  9  0  0  0  0  0  0  0  0  0]\n",
            " [ 0  0  0  0  0  0  0  1  0  0  0  0  0 18  0  0  0  0  0  1  0  0]\n",
            " [ 0  0  0  0  0  0  0  0  0  0  0  0  0  0 14  0  0  0  0  0  0  0]\n",
            " [ 0  0  0  0  0  0  0  0  0  0  0  1  0  0  0 24  0  0  0  0  0  0]\n",
            " [ 0  0  0  0  0  0  0  0  0  0  0  0  0  0  0  0 22  0  0  0  0  0]\n",
            " [ 0  0  0  0  0  0  0  0  0  0  0  0  0  0  0  0  0 29  0  0  0  0]\n",
            " [ 0  0  0  0  1  0  2  0  0  0  0  0  0  0  0  0  0  0 16  0  0  0]\n",
            " [ 0  0  0  0  0  0  0  0  0  0  0  0  0  0  0  0  0  0  0 17  0  0]\n",
            " [ 0  0  0  0  0  0  0  0  0  0  0  0  0  0  0  0  0  0  0  0 13  0]\n",
            " [ 0  0  0  0  0  0  0  6  0  0  0  0  0  0  0  0  0  0  0  0  0 14]]\n"
          ]
        },
        {
          "output_type": "stream",
          "name": "stderr",
          "text": [
            "/usr/local/lib/python3.7/dist-packages/sklearn/metrics/_classification.py:1308: UndefinedMetricWarning: Precision and F-score are ill-defined and being set to 0.0 in labels with no predicted samples. Use `zero_division` parameter to control this behavior.\n",
            "  _warn_prf(average, modifier, msg_start, len(result))\n",
            "/usr/local/lib/python3.7/dist-packages/sklearn/metrics/_classification.py:1308: UndefinedMetricWarning: Precision and F-score are ill-defined and being set to 0.0 in labels with no predicted samples. Use `zero_division` parameter to control this behavior.\n",
            "  _warn_prf(average, modifier, msg_start, len(result))\n",
            "/usr/local/lib/python3.7/dist-packages/sklearn/metrics/_classification.py:1308: UndefinedMetricWarning: Precision and F-score are ill-defined and being set to 0.0 in labels with no predicted samples. Use `zero_division` parameter to control this behavior.\n",
            "  _warn_prf(average, modifier, msg_start, len(result))\n"
          ]
        }
      ]
    },
    {
      "cell_type": "code",
      "source": [
        ""
      ],
      "metadata": {
        "id": "B-nNm4MKkSxb"
      },
      "execution_count": null,
      "outputs": []
    }
  ]
}