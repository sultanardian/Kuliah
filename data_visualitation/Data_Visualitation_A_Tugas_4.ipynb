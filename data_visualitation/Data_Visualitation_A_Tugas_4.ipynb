{
  "nbformat": 4,
  "nbformat_minor": 0,
  "metadata": {
    "colab": {
      "name": "Data Visualitation A - Tugas 4.ipynb",
      "provenance": [],
      "collapsed_sections": [],
      "include_colab_link": true
    },
    "kernelspec": {
      "name": "python3",
      "display_name": "Python 3"
    },
    "language_info": {
      "name": "python"
    }
  },
  "cells": [
    {
      "cell_type": "markdown",
      "metadata": {
        "id": "view-in-github",
        "colab_type": "text"
      },
      "source": [
        "<a href=\"https://colab.research.google.com/github/sultanardian/kuliah/blob/main/data_visualitation/Data_Visualitation_A_Tugas_4.ipynb\" target=\"_parent\"><img src=\"https://colab.research.google.com/assets/colab-badge.svg\" alt=\"Open In Colab\"/></a>"
      ]
    },
    {
      "cell_type": "code",
      "metadata": {
        "id": "BdLDXbXiOf47"
      },
      "source": [
        "import pandas as pd\n",
        "import matplotlib.pyplot as plt\n"
      ],
      "execution_count": null,
      "outputs": []
    },
    {
      "cell_type": "code",
      "metadata": {
        "colab": {
          "base_uri": "https://localhost:8080/",
          "height": 206
        },
        "id": "pY7830pZQ_eU",
        "outputId": "5ce1a3f7-031d-4a1d-c14e-19ae3584f136"
      },
      "source": [
        "df = pd.read_csv('/content/drive/MyDrive/Dataset/AirPassengersDates.csv')\n",
        "df.head()"
      ],
      "execution_count": null,
      "outputs": [
        {
          "output_type": "execute_result",
          "data": {
            "text/html": [
              "<div>\n",
              "<style scoped>\n",
              "    .dataframe tbody tr th:only-of-type {\n",
              "        vertical-align: middle;\n",
              "    }\n",
              "\n",
              "    .dataframe tbody tr th {\n",
              "        vertical-align: top;\n",
              "    }\n",
              "\n",
              "    .dataframe thead th {\n",
              "        text-align: right;\n",
              "    }\n",
              "</style>\n",
              "<table border=\"1\" class=\"dataframe\">\n",
              "  <thead>\n",
              "    <tr style=\"text-align: right;\">\n",
              "      <th></th>\n",
              "      <th>Date</th>\n",
              "      <th>#Passengers</th>\n",
              "    </tr>\n",
              "  </thead>\n",
              "  <tbody>\n",
              "    <tr>\n",
              "      <th>0</th>\n",
              "      <td>1949-01-12</td>\n",
              "      <td>112</td>\n",
              "    </tr>\n",
              "    <tr>\n",
              "      <th>1</th>\n",
              "      <td>1949-02-24</td>\n",
              "      <td>118</td>\n",
              "    </tr>\n",
              "    <tr>\n",
              "      <th>2</th>\n",
              "      <td>1949-03-22</td>\n",
              "      <td>132</td>\n",
              "    </tr>\n",
              "    <tr>\n",
              "      <th>3</th>\n",
              "      <td>1949-04-5</td>\n",
              "      <td>129</td>\n",
              "    </tr>\n",
              "    <tr>\n",
              "      <th>4</th>\n",
              "      <td>1949-05-24</td>\n",
              "      <td>121</td>\n",
              "    </tr>\n",
              "  </tbody>\n",
              "</table>\n",
              "</div>"
            ],
            "text/plain": [
              "         Date  #Passengers\n",
              "0  1949-01-12          112\n",
              "1  1949-02-24          118\n",
              "2  1949-03-22          132\n",
              "3   1949-04-5          129\n",
              "4  1949-05-24          121"
            ]
          },
          "metadata": {},
          "execution_count": 3
        }
      ]
    },
    {
      "cell_type": "code",
      "metadata": {
        "colab": {
          "base_uri": "https://localhost:8080/",
          "height": 206
        },
        "id": "xKtmD6lJTG3J",
        "outputId": "e2e7f664-b28e-415d-fc8a-8d6caa10ca69"
      },
      "source": [
        "df['Date'] = pd.to_datetime(df['Date'])\n",
        "\n",
        "df['Month'] = df['Date'].dt.month\n",
        "df['Day'] = df['Date'].dt.day\n",
        "df['Year'] = df['Date'].dt.year\n",
        "df['Day Name'] = df['Date'].dt.day_name()\n",
        "df.head()"
      ],
      "execution_count": null,
      "outputs": [
        {
          "output_type": "execute_result",
          "data": {
            "text/html": [
              "<div>\n",
              "<style scoped>\n",
              "    .dataframe tbody tr th:only-of-type {\n",
              "        vertical-align: middle;\n",
              "    }\n",
              "\n",
              "    .dataframe tbody tr th {\n",
              "        vertical-align: top;\n",
              "    }\n",
              "\n",
              "    .dataframe thead th {\n",
              "        text-align: right;\n",
              "    }\n",
              "</style>\n",
              "<table border=\"1\" class=\"dataframe\">\n",
              "  <thead>\n",
              "    <tr style=\"text-align: right;\">\n",
              "      <th></th>\n",
              "      <th>Date</th>\n",
              "      <th>#Passengers</th>\n",
              "      <th>Month</th>\n",
              "      <th>Day</th>\n",
              "      <th>Year</th>\n",
              "      <th>Day Name</th>\n",
              "    </tr>\n",
              "  </thead>\n",
              "  <tbody>\n",
              "    <tr>\n",
              "      <th>0</th>\n",
              "      <td>1949-01-12</td>\n",
              "      <td>112</td>\n",
              "      <td>1</td>\n",
              "      <td>12</td>\n",
              "      <td>1949</td>\n",
              "      <td>Wednesday</td>\n",
              "    </tr>\n",
              "    <tr>\n",
              "      <th>1</th>\n",
              "      <td>1949-02-24</td>\n",
              "      <td>118</td>\n",
              "      <td>2</td>\n",
              "      <td>24</td>\n",
              "      <td>1949</td>\n",
              "      <td>Thursday</td>\n",
              "    </tr>\n",
              "    <tr>\n",
              "      <th>2</th>\n",
              "      <td>1949-03-22</td>\n",
              "      <td>132</td>\n",
              "      <td>3</td>\n",
              "      <td>22</td>\n",
              "      <td>1949</td>\n",
              "      <td>Tuesday</td>\n",
              "    </tr>\n",
              "    <tr>\n",
              "      <th>3</th>\n",
              "      <td>1949-04-05</td>\n",
              "      <td>129</td>\n",
              "      <td>4</td>\n",
              "      <td>5</td>\n",
              "      <td>1949</td>\n",
              "      <td>Tuesday</td>\n",
              "    </tr>\n",
              "    <tr>\n",
              "      <th>4</th>\n",
              "      <td>1949-05-24</td>\n",
              "      <td>121</td>\n",
              "      <td>5</td>\n",
              "      <td>24</td>\n",
              "      <td>1949</td>\n",
              "      <td>Tuesday</td>\n",
              "    </tr>\n",
              "  </tbody>\n",
              "</table>\n",
              "</div>"
            ],
            "text/plain": [
              "        Date  #Passengers  Month  Day  Year   Day Name\n",
              "0 1949-01-12          112      1   12  1949  Wednesday\n",
              "1 1949-02-24          118      2   24  1949   Thursday\n",
              "2 1949-03-22          132      3   22  1949    Tuesday\n",
              "3 1949-04-05          129      4    5  1949    Tuesday\n",
              "4 1949-05-24          121      5   24  1949    Tuesday"
            ]
          },
          "metadata": {},
          "execution_count": 5
        }
      ]
    },
    {
      "cell_type": "code",
      "metadata": {
        "colab": {
          "base_uri": "https://localhost:8080/",
          "height": 328
        },
        "id": "lCj_a9yhRCOy",
        "outputId": "89028e93-7eba-4415-9e64-63d483aaf59e"
      },
      "source": [
        "passengers_per_year = df.groupby('Year')['#Passengers'].sum()\n",
        "\n",
        "passengers_per_year.plot(kind = 'bar')\n",
        "plt.title('Passengers per year')"
      ],
      "execution_count": null,
      "outputs": [
        {
          "output_type": "execute_result",
          "data": {
            "text/plain": [
              "Text(0.5, 1.0, 'Passengers per year')"
            ]
          },
          "metadata": {},
          "execution_count": 6
        },
        {
          "output_type": "display_data",
          "data": {
            "image/png": "[encoded data removed]",
            "text/plain": [
              "<Figure size 432x288 with 1 Axes>"
            ]
          },
          "metadata": {
            "needs_background": "light"
          }
        }
      ]
    },
    {
      "cell_type": "code",
      "metadata": {
        "id": "V2ZHKilNRefX",
        "colab": {
          "base_uri": "https://localhost:8080/",
          "height": 299
        },
        "outputId": "464cc1e9-04ca-48e9-92ef-03111c4e800e"
      },
      "source": [
        "passengers_per_month = df.groupby('Month')['#Passengers'].sum()\n",
        "\n",
        "passengers_per_month.plot(kind = 'bar')"
      ],
      "execution_count": null,
      "outputs": [
        {
          "output_type": "execute_result",
          "data": {
            "text/plain": [
              "<matplotlib.axes._subplots.AxesSubplot at 0x7f4ade02e290>"
            ]
          },
          "metadata": {},
          "execution_count": 7
        },
        {
          "output_type": "display_data",
          "data": {
            "image/png": "[encoded data removed]",
            "text/plain": [
              "<Figure size 432x288 with 1 Axes>"
            ]
          },
          "metadata": {
            "needs_background": "light"
          }
        }
      ]
    },
    {
      "cell_type": "code",
      "metadata": {
        "colab": {
          "base_uri": "https://localhost:8080/",
          "height": 542
        },
        "id": "ikyBmSSxpZLm",
        "outputId": "53a272b1-6a93-495e-abd1-bcc8d7479850"
      },
      "source": [
        "import plotly.graph_objects as go\n",
        "\n",
        "# Create figure\n",
        "fig = go.Figure()\n",
        "\n",
        "fig.add_trace(go.Scatter(x = list(df['Date']), y = list(df['#Passengers'])))\n",
        "\n",
        "# Set title\n",
        "fig.update_layout(title_text = \"Time series with range slider and selectors\")\n",
        "\n",
        "# Add range slider\n",
        "fig.update_layout(\n",
        "    xaxis = dict(\n",
        "        rangeselector = dict(\n",
        "            buttons = list([\n",
        "                dict(count = 1,\n",
        "                     label = \"1m\",\n",
        "                     step = \"month\",\n",
        "                     stepmode = \"backward\"),\n",
        "                dict(count = 6,\n",
        "                     label = \"6m\",\n",
        "                     step = \"month\",\n",
        "                     stepmode = \"backward\"),\n",
        "                dict(count = 1,\n",
        "                     label = \"YTD\",\n",
        "                     step = \"year\",\n",
        "                     stepmode = \"todate\"),\n",
        "                dict(count = 1,\n",
        "                     label = \"1y\",\n",
        "                     step = \"year\",\n",
        "                     stepmode = \"backward\"),\n",
        "                dict(step = \"all\")\n",
        "            ])\n",
        "        ),\n",
        "        rangeslider = dict(\n",
        "            visible = True\n",
        "        ),\n",
        "        type = \"date\"\n",
        "    )\n",
        ")\n",
        "\n",
        "fig.show()"
      ],
      "execution_count": null,
      "outputs": [
        {
          "output_type": "display_data",
          "data": {
            "text/html": [
              "<html>\n",
              "<head><meta charset=\"utf-8\" /></head>\n",
              "<body>\n",
              "    <div>\n",
              "            <script src=\"https://cdnjs.cloudflare.com/ajax/libs/mathjax/2.7.5/MathJax.js?config=TeX-AMS-MML_SVG\"></script><script type=\"text/javascript\">if (window.MathJax) {MathJax.Hub.Config({SVG: {font: \"STIX-Web\"}});}</script>\n",
              "                <script type=\"text/javascript\">window.PlotlyConfig = {MathJaxConfig: 'local'};</script>\n",
              "        <script src=\"https://cdn.plot.ly/plotly-latest.min.js\"></script>    \n",
              "            <div id=\"152e3dc8-d6ec-42ef-8538-7502e4c1a0d1\" class=\"plotly-graph-div\" style=\"height:525px; width:100%;\"></div>\n",
              "            <script type=\"text/javascript\">\n",
              "                \n",
              "                    window.PLOTLYENV=window.PLOTLYENV || {};\n",
              "                    \n",
              "                if (document.getElementById(\"152e3dc8-d6ec-42ef-8538-7502e4c1a0d1\")) {\n",
              "                    Plotly.newPlot(\n",
              "                        '152e3dc8-d6ec-42ef-8538-7502e4c1a0d1',\n",
              "                        [{\"type\": \"scatter\", \"x\": [\"1949-01-12T00:00:00\", \"1949-02-24T00:00:00\", \"1949-03-22T00:00:00\", \"1949-04-05T00:00:00\", \"1949-05-24T00:00:00\", \"1949-06-20T00:00:00\", \"1949-07-07T00:00:00\", \"1949-08-22T00:00:00\", \"1949-09-02T00:00:00\", \"1949-10-15T00:00:00\", \"1949-11-16T00:00:00\", \"1949-12-14T00:00:00\", \"1950-01-15T00:00:00\", \"1950-02-16T00:00:00\", \"1950-03-18T00:00:00\", \"1950-04-30T00:00:00\", \"1950-05-17T00:00:00\", \"1950-06-24T00:00:00\", \"1950-07-30T00:00:00\", \"1950-08-04T00:00:00\", \"1950-09-09T00:00:00\", \"1950-10-26T00:00:00\", \"1950-11-19T00:00:00\", \"1950-12-15T00:00:00\", \"1951-01-28T00:00:00\", \"1951-02-02T00:00:00\", \"1951-03-08T00:00:00\", \"1951-04-27T00:00:00\", \"1951-05-01T00:00:00\", \"1951-06-30T00:00:00\", \"1951-07-10T00:00:00\", \"1951-08-01T00:00:00\", \"1951-09-10T00:00:00\", \"1951-10-03T00:00:00\", \"1951-11-24T00:00:00\", \"1951-12-14T00:00:00\", \"1952-01-07T00:00:00\", \"1952-02-11T00:00:00\", \"1952-03-09T00:00:00\", \"1952-04-06T00:00:00\", \"1952-05-15T00:00:00\", \"1952-06-21T00:00:00\", \"1952-07-13T00:00:00\", \"1952-08-26T00:00:00\", \"1952-09-21T00:00:00\", \"1952-10-26T00:00:00\", \"1952-11-18T00:00:00\", \"1952-12-24T00:00:00\", \"1953-01-16T00:00:00\", \"1953-02-10T00:00:00\", \"1953-03-21T00:00:00\", \"1953-04-08T00:00:00\", \"1953-05-24T00:00:00\", \"1953-06-10T00:00:00\", \"1953-07-24T00:00:00\", \"1953-08-28T00:00:00\", \"1953-09-19T00:00:00\", \"1953-10-02T00:00:00\", \"1953-11-10T00:00:00\", \"1953-12-06T00:00:00\", \"1954-01-17T00:00:00\", \"1954-02-18T00:00:00\", \"1954-03-17T00:00:00\", \"1954-04-07T00:00:00\", \"1954-05-16T00:00:00\", \"1954-06-19T00:00:00\", \"1954-07-02T00:00:00\", \"1954-08-19T00:00:00\", \"1954-09-02T00:00:00\", \"1954-10-16T00:00:00\", \"1954-11-12T00:00:00\", \"1954-12-13T00:00:00\", \"1955-01-21T00:00:00\", \"1955-02-27T00:00:00\", \"1955-03-03T00:00:00\", \"1955-04-14T00:00:00\", \"1955-05-22T00:00:00\", \"1955-06-17T00:00:00\", \"1955-07-09T00:00:00\", \"1955-08-13T00:00:00\", \"1955-09-25T00:00:00\", \"1955-10-13T00:00:00\", \"1955-11-08T00:00:00\", \"1955-12-12T00:00:00\", \"1956-01-28T00:00:00\", \"1956-02-03T00:00:00\", \"1956-03-03T00:00:00\", \"1956-04-09T00:00:00\", \"1956-05-17T00:00:00\", \"1956-06-27T00:00:00\", \"1956-07-26T00:00:00\", \"1956-08-18T00:00:00\", \"1956-09-29T00:00:00\", \"1956-10-07T00:00:00\", \"1956-11-23T00:00:00\", \"1956-12-28T00:00:00\", \"1957-01-21T00:00:00\", \"1957-02-19T00:00:00\", \"1957-03-05T00:00:00\", \"1957-04-06T00:00:00\", \"1957-05-13T00:00:00\", \"1957-06-10T00:00:00\", \"1957-07-02T00:00:00\", \"1957-08-23T00:00:00\", \"1957-09-05T00:00:00\", \"1957-10-27T00:00:00\", \"1957-11-19T00:00:00\", \"1957-12-30T00:00:00\", \"1958-01-17T00:00:00\", \"1958-02-10T00:00:00\", \"1958-03-12T00:00:00\", \"1958-04-02T00:00:00\", \"1958-05-18T00:00:00\", \"1958-06-14T00:00:00\", \"1958-07-13T00:00:00\", \"1958-08-18T00:00:00\", \"1958-09-29T00:00:00\", \"1958-10-16T00:00:00\", \"1958-11-21T00:00:00\", \"1958-12-26T00:00:00\", \"1959-01-22T00:00:00\", \"1959-02-26T00:00:00\", \"1959-03-08T00:00:00\", \"1959-04-06T00:00:00\", \"1959-05-14T00:00:00\", \"1959-06-24T00:00:00\", \"1959-07-29T00:00:00\", \"1959-08-01T00:00:00\", \"1959-09-06T00:00:00\", \"1959-10-20T00:00:00\", \"1959-11-30T00:00:00\", \"1959-12-23T00:00:00\", \"1960-01-20T00:00:00\", \"1960-02-08T00:00:00\", \"1960-03-26T00:00:00\", \"1960-04-15T00:00:00\", \"1960-05-27T00:00:00\", \"1960-06-02T00:00:00\", \"1960-07-02T00:00:00\", \"1960-08-16T00:00:00\", \"1960-09-14T00:00:00\", \"1960-10-20T00:00:00\", \"1960-11-26T00:00:00\", \"1960-12-04T00:00:00\"], \"y\": [112, 118, 132, 129, 121, 135, 148, 148, 136, 119, 104, 118, 115, 126, 141, 135, 125, 149, 170, 170, 158, 133, 114, 140, 145, 150, 178, 163, 172, 178, 199, 199, 184, 162, 146, 166, 171, 180, 193, 181, 183, 218, 230, 242, 209, 191, 172, 194, 196, 196, 236, 235, 229, 243, 264, 272, 237, 211, 180, 201, 204, 188, 235, 227, 234, 264, 302, 293, 259, 229, 203, 229, 242, 233, 267, 269, 270, 315, 364, 347, 312, 274, 237, 278, 284, 277, 317, 313, 318, 374, 413, 405, 355, 306, 271, 306, 315, 301, 356, 348, 355, 422, 465, 467, 404, 347, 305, 336, 340, 318, 362, 348, 363, 435, 491, 505, 404, 359, 310, 337, 360, 342, 406, 396, 420, 472, 548, 559, 463, 407, 362, 405, 417, 391, 419, 461, 472, 535, 622, 606, 508, 461, 390, 432]}],\n",
              "                        {\"template\": {\"data\": {\"bar\": [{\"error_x\": {\"color\": \"#2a3f5f\"}, \"error_y\": {\"color\": \"#2a3f5f\"}, \"marker\": {\"line\": {\"color\": \"#E5ECF6\", \"width\": 0.5}}, \"type\": \"bar\"}], \"barpolar\": [{\"marker\": {\"line\": {\"color\": \"#E5ECF6\", \"width\": 0.5}}, \"type\": \"barpolar\"}], \"carpet\": [{\"aaxis\": {\"endlinecolor\": \"#2a3f5f\", \"gridcolor\": \"white\", \"linecolor\": \"white\", \"minorgridcolor\": \"white\", \"startlinecolor\": \"#2a3f5f\"}, \"baxis\": {\"endlinecolor\": \"#2a3f5f\", \"gridcolor\": \"white\", \"linecolor\": \"white\", \"minorgridcolor\": \"white\", \"startlinecolor\": \"#2a3f5f\"}, \"type\": \"carpet\"}], \"choropleth\": [{\"colorbar\": {\"outlinewidth\": 0, \"ticks\": \"\"}, \"type\": \"choropleth\"}], \"contour\": [{\"colorbar\": {\"outlinewidth\": 0, \"ticks\": \"\"}, \"colorscale\": [[0.0, \"#0d0887\"], [0.1111111111111111, \"#46039f\"], [0.2222222222222222, \"#7201a8\"], [0.3333333333333333, \"#9c179e\"], [0.4444444444444444, \"#bd3786\"], [0.5555555555555556, \"#d8576b\"], [0.6666666666666666, \"#ed7953\"], [0.7777777777777778, \"#fb9f3a\"], [0.8888888888888888, \"#fdca26\"], [1.0, \"#f0f921\"]], \"type\": \"contour\"}], \"contourcarpet\": [{\"colorbar\": {\"outlinewidth\": 0, \"ticks\": \"\"}, \"type\": \"contourcarpet\"}], \"heatmap\": [{\"colorbar\": {\"outlinewidth\": 0, \"ticks\": \"\"}, \"colorscale\": [[0.0, \"#0d0887\"], [0.1111111111111111, \"#46039f\"], [0.2222222222222222, \"#7201a8\"], [0.3333333333333333, \"#9c179e\"], [0.4444444444444444, \"#bd3786\"], [0.5555555555555556, \"#d8576b\"], [0.6666666666666666, \"#ed7953\"], [0.7777777777777778, \"#fb9f3a\"], [0.8888888888888888, \"#fdca26\"], [1.0, \"#f0f921\"]], \"type\": \"heatmap\"}], \"heatmapgl\": [{\"colorbar\": {\"outlinewidth\": 0, \"ticks\": \"\"}, \"colorscale\": [[0.0, \"#0d0887\"], [0.1111111111111111, \"#46039f\"], [0.2222222222222222, \"#7201a8\"], [0.3333333333333333, \"#9c179e\"], [0.4444444444444444, \"#bd3786\"], [0.5555555555555556, \"#d8576b\"], [0.6666666666666666, \"#ed7953\"], [0.7777777777777778, \"#fb9f3a\"], [0.8888888888888888, \"#fdca26\"], [1.0, \"#f0f921\"]], \"type\": \"heatmapgl\"}], \"histogram\": [{\"marker\": {\"colorbar\": {\"outlinewidth\": 0, \"ticks\": \"\"}}, \"type\": \"histogram\"}], \"histogram2d\": [{\"colorbar\": {\"outlinewidth\": 0, \"ticks\": \"\"}, \"colorscale\": [[0.0, \"#0d0887\"], [0.1111111111111111, \"#46039f\"], [0.2222222222222222, \"#7201a8\"], [0.3333333333333333, \"#9c179e\"], [0.4444444444444444, \"#bd3786\"], [0.5555555555555556, \"#d8576b\"], [0.6666666666666666, \"#ed7953\"], [0.7777777777777778, \"#fb9f3a\"], [0.8888888888888888, \"#fdca26\"], [1.0, \"#f0f921\"]], \"type\": \"histogram2d\"}], \"histogram2dcontour\": [{\"colorbar\": {\"outlinewidth\": 0, \"ticks\": \"\"}, \"colorscale\": [[0.0, \"#0d0887\"], [0.1111111111111111, \"#46039f\"], [0.2222222222222222, \"#7201a8\"], [0.3333333333333333, \"#9c179e\"], [0.4444444444444444, \"#bd3786\"], [0.5555555555555556, \"#d8576b\"], [0.6666666666666666, \"#ed7953\"], [0.7777777777777778, \"#fb9f3a\"], [0.8888888888888888, \"#fdca26\"], [1.0, \"#f0f921\"]], \"type\": \"histogram2dcontour\"}], \"mesh3d\": [{\"colorbar\": {\"outlinewidth\": 0, \"ticks\": \"\"}, \"type\": \"mesh3d\"}], \"parcoords\": [{\"line\": {\"colorbar\": {\"outlinewidth\": 0, \"ticks\": \"\"}}, \"type\": \"parcoords\"}], \"pie\": [{\"automargin\": true, \"type\": \"pie\"}], \"scatter\": [{\"marker\": {\"colorbar\": {\"outlinewidth\": 0, \"ticks\": \"\"}}, \"type\": \"scatter\"}], \"scatter3d\": [{\"line\": {\"colorbar\": {\"outlinewidth\": 0, \"ticks\": \"\"}}, \"marker\": {\"colorbar\": {\"outlinewidth\": 0, \"ticks\": \"\"}}, \"type\": \"scatter3d\"}], \"scattercarpet\": [{\"marker\": {\"colorbar\": {\"outlinewidth\": 0, \"ticks\": \"\"}}, \"type\": \"scattercarpet\"}], \"scattergeo\": [{\"marker\": {\"colorbar\": {\"outlinewidth\": 0, \"ticks\": \"\"}}, \"type\": \"scattergeo\"}], \"scattergl\": [{\"marker\": {\"colorbar\": {\"outlinewidth\": 0, \"ticks\": \"\"}}, \"type\": \"scattergl\"}], \"scattermapbox\": [{\"marker\": {\"colorbar\": {\"outlinewidth\": 0, \"ticks\": \"\"}}, \"type\": \"scattermapbox\"}], \"scatterpolar\": [{\"marker\": {\"colorbar\": {\"outlinewidth\": 0, \"ticks\": \"\"}}, \"type\": \"scatterpolar\"}], \"scatterpolargl\": [{\"marker\": {\"colorbar\": {\"outlinewidth\": 0, \"ticks\": \"\"}}, \"type\": \"scatterpolargl\"}], \"scatterternary\": [{\"marker\": {\"colorbar\": {\"outlinewidth\": 0, \"ticks\": \"\"}}, \"type\": \"scatterternary\"}], \"surface\": [{\"colorbar\": {\"outlinewidth\": 0, \"ticks\": \"\"}, \"colorscale\": [[0.0, \"#0d0887\"], [0.1111111111111111, \"#46039f\"], [0.2222222222222222, \"#7201a8\"], [0.3333333333333333, \"#9c179e\"], [0.4444444444444444, \"#bd3786\"], [0.5555555555555556, \"#d8576b\"], [0.6666666666666666, \"#ed7953\"], [0.7777777777777778, \"#fb9f3a\"], [0.8888888888888888, \"#fdca26\"], [1.0, \"#f0f921\"]], \"type\": \"surface\"}], \"table\": [{\"cells\": {\"fill\": {\"color\": \"#EBF0F8\"}, \"line\": {\"color\": \"white\"}}, \"header\": {\"fill\": {\"color\": \"#C8D4E3\"}, \"line\": {\"color\": \"white\"}}, \"type\": \"table\"}]}, \"layout\": {\"annotationdefaults\": {\"arrowcolor\": \"#2a3f5f\", \"arrowhead\": 0, \"arrowwidth\": 1}, \"coloraxis\": {\"colorbar\": {\"outlinewidth\": 0, \"ticks\": \"\"}}, \"colorscale\": {\"diverging\": [[0, \"#8e0152\"], [0.1, \"#c51b7d\"], [0.2, \"#de77ae\"], [0.3, \"#f1b6da\"], [0.4, \"#fde0ef\"], [0.5, \"#f7f7f7\"], [0.6, \"#e6f5d0\"], [0.7, \"#b8e186\"], [0.8, \"#7fbc41\"], [0.9, \"#4d9221\"], [1, \"#276419\"]], \"sequential\": [[0.0, \"#0d0887\"], [0.1111111111111111, \"#46039f\"], [0.2222222222222222, \"#7201a8\"], [0.3333333333333333, \"#9c179e\"], [0.4444444444444444, \"#bd3786\"], [0.5555555555555556, \"#d8576b\"], [0.6666666666666666, \"#ed7953\"], [0.7777777777777778, \"#fb9f3a\"], [0.8888888888888888, \"#fdca26\"], [1.0, \"#f0f921\"]], \"sequentialminus\": [[0.0, \"#0d0887\"], [0.1111111111111111, \"#46039f\"], [0.2222222222222222, \"#7201a8\"], [0.3333333333333333, \"#9c179e\"], [0.4444444444444444, \"#bd3786\"], [0.5555555555555556, \"#d8576b\"], [0.6666666666666666, \"#ed7953\"], [0.7777777777777778, \"#fb9f3a\"], [0.8888888888888888, \"#fdca26\"], [1.0, \"#f0f921\"]]}, \"colorway\": [\"#636efa\", \"#EF553B\", \"#00cc96\", \"#ab63fa\", \"#FFA15A\", \"#19d3f3\", \"#FF6692\", \"#B6E880\", \"#FF97FF\", \"#FECB52\"], \"font\": {\"color\": \"#2a3f5f\"}, \"geo\": {\"bgcolor\": \"white\", \"lakecolor\": \"white\", \"landcolor\": \"#E5ECF6\", \"showlakes\": true, \"showland\": true, \"subunitcolor\": \"white\"}, \"hoverlabel\": {\"align\": \"left\"}, \"hovermode\": \"closest\", \"mapbox\": {\"style\": \"light\"}, \"paper_bgcolor\": \"white\", \"plot_bgcolor\": \"#E5ECF6\", \"polar\": {\"angularaxis\": {\"gridcolor\": \"white\", \"linecolor\": \"white\", \"ticks\": \"\"}, \"bgcolor\": \"#E5ECF6\", \"radialaxis\": {\"gridcolor\": \"white\", \"linecolor\": \"white\", \"ticks\": \"\"}}, \"scene\": {\"xaxis\": {\"backgroundcolor\": \"#E5ECF6\", \"gridcolor\": \"white\", \"gridwidth\": 2, \"linecolor\": \"white\", \"showbackground\": true, \"ticks\": \"\", \"zerolinecolor\": \"white\"}, \"yaxis\": {\"backgroundcolor\": \"#E5ECF6\", \"gridcolor\": \"white\", \"gridwidth\": 2, \"linecolor\": \"white\", \"showbackground\": true, \"ticks\": \"\", \"zerolinecolor\": \"white\"}, \"zaxis\": {\"backgroundcolor\": \"#E5ECF6\", \"gridcolor\": \"white\", \"gridwidth\": 2, \"linecolor\": \"white\", \"showbackground\": true, \"ticks\": \"\", \"zerolinecolor\": \"white\"}}, \"shapedefaults\": {\"line\": {\"color\": \"#2a3f5f\"}}, \"ternary\": {\"aaxis\": {\"gridcolor\": \"white\", \"linecolor\": \"white\", \"ticks\": \"\"}, \"baxis\": {\"gridcolor\": \"white\", \"linecolor\": \"white\", \"ticks\": \"\"}, \"bgcolor\": \"#E5ECF6\", \"caxis\": {\"gridcolor\": \"white\", \"linecolor\": \"white\", \"ticks\": \"\"}}, \"title\": {\"x\": 0.05}, \"xaxis\": {\"automargin\": true, \"gridcolor\": \"white\", \"linecolor\": \"white\", \"ticks\": \"\", \"title\": {\"standoff\": 15}, \"zerolinecolor\": \"white\", \"zerolinewidth\": 2}, \"yaxis\": {\"automargin\": true, \"gridcolor\": \"white\", \"linecolor\": \"white\", \"ticks\": \"\", \"title\": {\"standoff\": 15}, \"zerolinecolor\": \"white\", \"zerolinewidth\": 2}}}, \"title\": {\"text\": \"Time series with range slider and selectors\"}, \"xaxis\": {\"rangeselector\": {\"buttons\": [{\"count\": 1, \"label\": \"1m\", \"step\": \"month\", \"stepmode\": \"backward\"}, {\"count\": 6, \"label\": \"6m\", \"step\": \"month\", \"stepmode\": \"backward\"}, {\"count\": 1, \"label\": \"YTD\", \"step\": \"year\", \"stepmode\": \"todate\"}, {\"count\": 1, \"label\": \"1y\", \"step\": \"year\", \"stepmode\": \"backward\"}, {\"step\": \"all\"}]}, \"rangeslider\": {\"visible\": true}, \"type\": \"date\"}},\n",
              "                        {\"responsive\": true}\n",
              "                    ).then(function(){\n",
              "                            \n",
              "var gd = document.getElementById('152e3dc8-d6ec-42ef-8538-7502e4c1a0d1');\n",
              "var x = new MutationObserver(function (mutations, observer) {{\n",
              "        var display = window.getComputedStyle(gd).display;\n",
              "        if (!display || display === 'none') {{\n",
              "            console.log([gd, 'removed!']);\n",
              "            Plotly.purge(gd);\n",
              "            observer.disconnect();\n",
              "        }}\n",
              "}});\n",
              "\n",
              "// Listen for the removal of the full notebook cells\n",
              "var notebookContainer = gd.closest('#notebook-container');\n",
              "if (notebookContainer) {{\n",
              "    x.observe(notebookContainer, {childList: true});\n",
              "}}\n",
              "\n",
              "// Listen for the clearing of the current output cell\n",
              "var outputEl = gd.closest('.output');\n",
              "if (outputEl) {{\n",
              "    x.observe(outputEl, {childList: true});\n",
              "}}\n",
              "\n",
              "                        })\n",
              "                };\n",
              "                \n",
              "            </script>\n",
              "        </div>\n",
              "</body>\n",
              "</html>"
            ]
          },
          "metadata": {}
        }
      ]
    }
  ]
}