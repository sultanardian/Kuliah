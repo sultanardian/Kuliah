{
  "nbformat": 4,
  "nbformat_minor": 0,
  "metadata": {
    "colab": {
      "name": "Machine Learning A - UAS.ipynb",
      "provenance": [],
      "collapsed_sections": [],
      "include_colab_link": true
    },
    "kernelspec": {
      "name": "python3",
      "display_name": "Python 3"
    },
    "language_info": {
      "name": "python"
    }
  },
  "cells": [
    {
      "cell_type": "markdown",
      "metadata": {
        "id": "view-in-github",
        "colab_type": "text"
      },
      "source": [
        "<a href=\"https://colab.research.google.com/github/sultanardian/kuliah/blob/main/machine%20learning/Machine_Learning_A_UAS.ipynb\" target=\"_parent\"><img src=\"https://colab.research.google.com/assets/colab-badge.svg\" alt=\"Open In Colab\"/></a>"
      ]
    },
    {
      "cell_type": "code",
      "execution_count": null,
      "metadata": {
        "id": "k2mz5igI0qEt"
      },
      "outputs": [],
      "source": [
        "import numpy as np\n",
        "import matplotlib.pyplot as plt\n",
        "import os\n",
        "import cv2"
      ]
    },
    {
      "cell_type": "code",
      "source": [
        "DIR = '/content/drive/MyDrive/rps-cv-images'\n",
        "CATS = ['paper', 'rock', 'scissors']\n",
        "\n",
        "asset = []\n",
        "IMG_RESIZE = 100\n",
        "\n",
        "def image_load():\n",
        "    for category in CATS:\n",
        "        path = os.path.join(DIR, category)\n",
        "        idx = CATS.index(category)\n",
        "\n",
        "        for img in os.listdir(path):\n",
        "            img_read = cv2.imread(os.path.join(path, img))\n",
        "            img_resize = cv2.resize(img_read, (IMG_RESIZE, IMG_RESIZE))\n",
        "\n",
        "            asset.append([img_resize, idx])"
      ],
      "metadata": {
        "id": "VYpzvSuNdHeq"
      },
      "execution_count": null,
      "outputs": []
    },
    {
      "cell_type": "code",
      "source": [
        "image_load()"
      ],
      "metadata": {
        "id": "cz0I906HffP5"
      },
      "execution_count": null,
      "outputs": []
    },
    {
      "cell_type": "code",
      "source": [
        "asset[20][0].shape"
      ],
      "metadata": {
        "colab": {
          "base_uri": "https://localhost:8080/"
        },
        "id": "xMtmI5fZxQoz",
        "outputId": "1a1bb1dd-f296-4493-c3b3-301e57dc6d29"
      },
      "execution_count": null,
      "outputs": [
        {
          "output_type": "execute_result",
          "data": {
            "text/plain": [
              "(100, 100, 3)"
            ]
          },
          "metadata": {},
          "execution_count": 36
        }
      ]
    },
    {
      "cell_type": "code",
      "source": [
        "help(plt.imshow)"
      ],
      "metadata": {
        "colab": {
          "base_uri": "https://localhost:8080/"
        },
        "id": "46xSTbeoxdbo",
        "outputId": "c77b417a-577f-4c20-8fb6-7bb3adf1ab40"
      },
      "execution_count": null,
      "outputs": [
        {
          "output_type": "stream",
          "name": "stdout",
          "text": [
            "Help on function imshow in module matplotlib.pyplot:\n",
            "\n",
            "imshow(X, cmap=None, norm=None, aspect=None, interpolation=None, alpha=None, vmin=None, vmax=None, origin=None, extent=None, shape=<deprecated parameter>, filternorm=1, filterrad=4.0, imlim=<deprecated parameter>, resample=None, url=None, *, data=None, **kwargs)\n",
            "    Display data as an image; i.e. on a 2D regular raster.\n",
            "    \n",
            "    The input may either be actual RGB(A) data, or 2D scalar data, which\n",
            "    will be rendered as a pseudocolor image. Note: For actually displaying\n",
            "    a grayscale image set up the color mapping using the parameters\n",
            "    ``cmap='gray', vmin=0, vmax=255``.\n",
            "    \n",
            "    Parameters\n",
            "    ----------\n",
            "    X : array-like or PIL image\n",
            "        The image data. Supported array shapes are:\n",
            "    \n",
            "        - (M, N): an image with scalar data. The values are mapped to\n",
            "          colors using normalization and a colormap. See parameters *norm*,\n",
            "          *cmap*, *vmin*, *vmax*.\n",
            "        - (M, N, 3): an image with RGB values (0-1 float or 0-255 int).\n",
            "        - (M, N, 4): an image with RGBA values (0-1 float or 0-255 int),\n",
            "          i.e. including transparency.\n",
            "    \n",
            "        The first two dimensions (M, N) define the rows and columns of\n",
            "        the image.\n",
            "    \n",
            "        Out-of-range RGB(A) values are clipped.\n",
            "    \n",
            "    cmap : str or `~matplotlib.colors.Colormap`, optional\n",
            "        The Colormap instance or registered colormap name used to map\n",
            "        scalar data to colors. This parameter is ignored for RGB(A) data.\n",
            "        Defaults to :rc:`image.cmap`.\n",
            "    \n",
            "    norm : `~matplotlib.colors.Normalize`, optional\n",
            "        The `Normalize` instance used to scale scalar data to the [0, 1]\n",
            "        range before mapping to colors using *cmap*. By default, a linear\n",
            "        scaling mapping the lowest value to 0 and the highest to 1 is used.\n",
            "        This parameter is ignored for RGB(A) data.\n",
            "    \n",
            "    aspect : {'equal', 'auto'} or float, optional\n",
            "        Controls the aspect ratio of the axes. The aspect is of particular\n",
            "        relevance for images since it may distort the image, i.e. pixel\n",
            "        will not be square.\n",
            "    \n",
            "        This parameter is a shortcut for explicitly calling\n",
            "        `.Axes.set_aspect`. See there for further details.\n",
            "    \n",
            "        - 'equal': Ensures an aspect ratio of 1. Pixels will be square\n",
            "          (unless pixel sizes are explicitly made non-square in data\n",
            "          coordinates using *extent*).\n",
            "        - 'auto': The axes is kept fixed and the aspect is adjusted so\n",
            "          that the data fit in the axes. In general, this will result in\n",
            "          non-square pixels.\n",
            "    \n",
            "        If not given, use :rc:`image.aspect`.\n",
            "    \n",
            "    interpolation : str, optional\n",
            "        The interpolation method used. If *None*, :rc:`image.interpolation`\n",
            "        is used.\n",
            "    \n",
            "        Supported values are 'none', 'antialiased', 'nearest', 'bilinear',\n",
            "        'bicubic', 'spline16', 'spline36', 'hanning', 'hamming', 'hermite',\n",
            "        'kaiser', 'quadric', 'catrom', 'gaussian', 'bessel', 'mitchell',\n",
            "        'sinc', 'lanczos'.\n",
            "    \n",
            "        If *interpolation* is 'none', then no interpolation is performed\n",
            "        on the Agg, ps, pdf and svg backends. Other backends will fall back\n",
            "        to 'nearest'. Note that most SVG renders perform interpolation at\n",
            "        rendering and that the default interpolation method they implement\n",
            "        may differ.\n",
            "    \n",
            "        If *interpolation* is the default 'antialiased', then 'nearest'\n",
            "        interpolation is used if the image is upsampled by more than a\n",
            "        factor of three (i.e. the number of display pixels is at least\n",
            "        three times the size of the data array).  If the upsampling rate is\n",
            "        smaller than 3, or the image is downsampled, then 'hanning'\n",
            "        interpolation is used to act as an anti-aliasing filter, unless the\n",
            "        image happens to be upsampled by exactly a factor of two or one.\n",
            "    \n",
            "        See\n",
            "        :doc:`/gallery/images_contours_and_fields/interpolation_methods`\n",
            "        for an overview of the supported interpolation methods, and\n",
            "        :doc:`/gallery/images_contours_and_fields/image_antialiasing` for\n",
            "        a discussion of image antialiasing.\n",
            "    \n",
            "        Some interpolation methods require an additional radius parameter,\n",
            "        which can be set by *filterrad*. Additionally, the antigrain image\n",
            "        resize filter is controlled by the parameter *filternorm*.\n",
            "    \n",
            "    alpha : scalar or array-like, optional\n",
            "        The alpha blending value, between 0 (transparent) and 1 (opaque).\n",
            "        If *alpha* is an array, the alpha blending values are applied pixel\n",
            "        by pixel, and *alpha* must have the same shape as *X*.\n",
            "    \n",
            "    vmin, vmax : scalar, optional\n",
            "        When using scalar data and no explicit *norm*, *vmin* and *vmax*\n",
            "        define the data range that the colormap covers. By default,\n",
            "        the colormap covers the complete value range of the supplied\n",
            "        data. *vmin*, *vmax* are ignored if the *norm* parameter is used.\n",
            "    \n",
            "    origin : {'upper', 'lower'}, optional\n",
            "        Place the [0, 0] index of the array in the upper left or lower left\n",
            "        corner of the axes. The convention 'upper' is typically used for\n",
            "        matrices and images.\n",
            "        If not given, :rc:`image.origin` is used, defaulting to 'upper'.\n",
            "    \n",
            "        Note that the vertical axes points upward for 'lower'\n",
            "        but downward for 'upper'.\n",
            "    \n",
            "        See the :doc:`/tutorials/intermediate/imshow_extent` tutorial for\n",
            "        examples and a more detailed description.\n",
            "    \n",
            "    extent : scalars (left, right, bottom, top), optional\n",
            "        The bounding box in data coordinates that the image will fill.\n",
            "        The image is stretched individually along x and y to fill the box.\n",
            "    \n",
            "        The default extent is determined by the following conditions.\n",
            "        Pixels have unit size in data coordinates. Their centers are on\n",
            "        integer coordinates, and their center coordinates range from 0 to\n",
            "        columns-1 horizontally and from 0 to rows-1 vertically.\n",
            "    \n",
            "        Note that the direction of the vertical axis and thus the default\n",
            "        values for top and bottom depend on *origin*:\n",
            "    \n",
            "        - For ``origin == 'upper'`` the default is\n",
            "          ``(-0.5, numcols-0.5, numrows-0.5, -0.5)``.\n",
            "        - For ``origin == 'lower'`` the default is\n",
            "          ``(-0.5, numcols-0.5, -0.5, numrows-0.5)``.\n",
            "    \n",
            "        See the :doc:`/tutorials/intermediate/imshow_extent` tutorial for\n",
            "        examples and a more detailed description.\n",
            "    \n",
            "    filternorm : bool, optional, default: True\n",
            "        A parameter for the antigrain image resize filter (see the\n",
            "        antigrain documentation).  If *filternorm* is set, the filter\n",
            "        normalizes integer values and corrects the rounding errors. It\n",
            "        doesn't do anything with the source floating point values, it\n",
            "        corrects only integers according to the rule of 1.0 which means\n",
            "        that any sum of pixel weights must be equal to 1.0.  So, the\n",
            "        filter function must produce a graph of the proper shape.\n",
            "    \n",
            "    filterrad : float > 0, optional, default: 4.0\n",
            "        The filter radius for filters that have a radius parameter, i.e.\n",
            "        when interpolation is one of: 'sinc', 'lanczos' or 'blackman'.\n",
            "    \n",
            "    resample : bool, optional\n",
            "        When *True*, use a full resampling method.  When *False*, only\n",
            "        resample when the output image is larger than the input image.\n",
            "    \n",
            "    url : str, optional\n",
            "        Set the url of the created `.AxesImage`. See `.Artist.set_url`.\n",
            "    \n",
            "    Returns\n",
            "    -------\n",
            "    image : `~matplotlib.image.AxesImage`\n",
            "    \n",
            "    Other Parameters\n",
            "    ----------------\n",
            "    **kwargs : `~matplotlib.artist.Artist` properties\n",
            "        These parameters are passed on to the constructor of the\n",
            "        `.AxesImage` artist.\n",
            "    \n",
            "    See also\n",
            "    --------\n",
            "    matshow : Plot a matrix or an array as an image.\n",
            "    \n",
            "    Notes\n",
            "    -----\n",
            "    Unless *extent* is used, pixel centers will be located at integer\n",
            "    coordinates. In other words: the origin will coincide with the center\n",
            "    of pixel (0, 0).\n",
            "    \n",
            "    There are two common representations for RGB images with an alpha\n",
            "    channel:\n",
            "    \n",
            "    -   Straight (unassociated) alpha: R, G, and B channels represent the\n",
            "        color of the pixel, disregarding its opacity.\n",
            "    -   Premultiplied (associated) alpha: R, G, and B channels represent\n",
            "        the color of the pixel, adjusted for its opacity by multiplication.\n",
            "    \n",
            "    `~matplotlib.pyplot.imshow` expects RGB images adopting the straight\n",
            "    (unassociated) alpha representation.\n",
            "    \n",
            "    .. note::\n",
            "        In addition to the above described arguments, this function can take a\n",
            "        **data** keyword argument. If such a **data** argument is given, the\n",
            "        following arguments are replaced by **data[<arg>]**:\n",
            "    \n",
            "        * All positional and all keyword arguments.\n",
            "    \n",
            "        Objects passed as **data** must support item access (``data[<arg>]``) and\n",
            "        membership test (``<arg> in data``).\n",
            "\n"
          ]
        }
      ]
    },
    {
      "cell_type": "code",
      "source": [
        "plt.imshow(asset[20][0])"
      ],
      "metadata": {
        "colab": {
          "base_uri": "https://localhost:8080/",
          "height": 285
        },
        "id": "2yL1WrdFfESL",
        "outputId": "661c2039-ef7f-47a6-a994-2844f78f8f0c"
      },
      "execution_count": null,
      "outputs": [
        {
          "output_type": "execute_result",
          "data": {
            "text/plain": [
              "<matplotlib.image.AxesImage at 0x7f41d3f68a50>"
            ]
          },
          "metadata": {},
          "execution_count": 42
        },
        {
          "output_type": "display_data",
          "data": {
            "image/png": "[encoded data removed]",
            "text/plain": [
              "<Figure size 432x288 with 1 Axes>"
            ]
          },
          "metadata": {
            "needs_background": "light"
          }
        }
      ]
    },
    {
      "cell_type": "code",
      "source": [
        "X = []\n",
        "y = []\n",
        "\n",
        "for feats, labels in asset:\n",
        "    X.append(feats)\n",
        "    y.append(labels)\n",
        "\n",
        "X = np.array(X).reshape(-1, IMG_RESIZE, IMG_RESIZE, 3)\n",
        "y = np.array(y).astype('float32').reshape(-1, 1)"
      ],
      "metadata": {
        "id": "Bichxbe9g4Vt"
      },
      "execution_count": null,
      "outputs": []
    },
    {
      "cell_type": "code",
      "source": [
        "X[0].shape"
      ],
      "metadata": {
        "colab": {
          "base_uri": "https://localhost:8080/"
        },
        "id": "M6dYhHFoyD2b",
        "outputId": "4e2e55d9-1aca-4eaa-b8c7-e4baafa91b76"
      },
      "execution_count": null,
      "outputs": [
        {
          "output_type": "execute_result",
          "data": {
            "text/plain": [
              "(100, 100, 3)"
            ]
          },
          "metadata": {},
          "execution_count": 58
        }
      ]
    },
    {
      "cell_type": "code",
      "source": [
        "from sklearn.model_selection import train_test_split\n",
        "\n",
        "X_train, X_test, y_train, y_test = train_test_split(X, y, test_size = 0.4, random_state = 42)"
      ],
      "metadata": {
        "id": "PkeN20o9hJEA"
      },
      "execution_count": null,
      "outputs": []
    },
    {
      "cell_type": "code",
      "source": [
        "y_train"
      ],
      "metadata": {
        "colab": {
          "base_uri": "https://localhost:8080/"
        },
        "id": "5yaI9JZUhaW3",
        "outputId": "6d7367e0-863b-471f-9f17-97e3e859f313"
      },
      "execution_count": null,
      "outputs": [
        {
          "output_type": "execute_result",
          "data": {
            "text/plain": [
              "array([[2.],\n",
              "       [2.],\n",
              "       [2.],\n",
              "       ...,\n",
              "       [1.],\n",
              "       [1.],\n",
              "       [1.]], dtype=float32)"
            ]
          },
          "metadata": {},
          "execution_count": 72
        }
      ]
    },
    {
      "cell_type": "code",
      "source": [
        "np.asarray(y_train).astype('float32').reshape((-1,1))"
      ],
      "metadata": {
        "colab": {
          "base_uri": "https://localhost:8080/"
        },
        "id": "MPXsP2Wt0CZk",
        "outputId": "15829cd9-3dae-4e0e-d85f-365bab3761a8"
      },
      "execution_count": null,
      "outputs": [
        {
          "output_type": "execute_result",
          "data": {
            "text/plain": [
              "array([[2.],\n",
              "       [2.],\n",
              "       [2.],\n",
              "       ...,\n",
              "       [1.],\n",
              "       [1.],\n",
              "       [1.]], dtype=float32)"
            ]
          },
          "metadata": {},
          "execution_count": 68
        }
      ]
    },
    {
      "cell_type": "code",
      "source": [
        "import tensorflow as tf\n",
        "from tensorflow.keras.models import Sequential\n",
        "from tensorflow.keras.layers import Dense, Dropout, Activation, Flatten, Conv2D, MaxPooling2D"
      ],
      "metadata": {
        "id": "siqWbl0Lg7BF"
      },
      "execution_count": null,
      "outputs": []
    },
    {
      "cell_type": "code",
      "source": [
        "X = X/225.0"
      ],
      "metadata": {
        "id": "k23BJrn2hAYM"
      },
      "execution_count": null,
      "outputs": []
    },
    {
      "cell_type": "code",
      "source": [
        "model = Sequential()\n",
        "model.add(Conv2D(32, (3, 3), activation='relu', input_shape=X_train.shape[1:]))\n",
        "model.add(MaxPooling2D())\n",
        "\n",
        "model.add(Conv2D(64, (3, 3), activation='relu'))\n",
        "model.add(MaxPooling2D())\n",
        "\n",
        "model.add(Conv2D(64, (3, 3), activation='relu'))\n",
        "\n",
        "model.add(Flatten())\n",
        "model.add(Dense(64, activation='relu'))\n",
        "model.add(Dense(1, activation='sigmoid'))\n",
        "\n",
        "model.compile(loss = 'binary_crossentropy', optimizer = 'adam', metrics = ['accuracy'])\n",
        "model.fit(X_train, y_train, batch_size = 32, validation_split = 0.2, epochs = 10)"
      ],
      "metadata": {
        "colab": {
          "base_uri": "https://localhost:8080/"
        },
        "id": "0htxj0OEwdI5",
        "outputId": "43b06e17-c2e4-4eeb-d6bb-697ea79f9e93"
      },
      "execution_count": null,
      "outputs": [
        {
          "output_type": "stream",
          "name": "stdout",
          "text": [
            "Epoch 1/10\n",
            "35/35 [==============================] - 19s 526ms/step - loss: 1081.5905 - accuracy: 0.3172 - val_loss: -3716.3877 - val_accuracy: 0.3226\n",
            "Epoch 2/10\n",
            "35/35 [==============================] - 18s 523ms/step - loss: -11750.8330 - accuracy: 0.3217 - val_loss: -105281.0156 - val_accuracy: 0.3226\n",
            "Epoch 3/10\n",
            "35/35 [==============================] - 18s 519ms/step - loss: -388748.3750 - accuracy: 0.3297 - val_loss: -3002024.5000 - val_accuracy: 0.3226\n",
            "Epoch 4/10\n",
            "35/35 [==============================] - 18s 516ms/step - loss: -6418435.5000 - accuracy: 0.3226 - val_loss: -29392184.0000 - val_accuracy: 0.3226\n",
            "Epoch 5/10\n",
            "35/35 [==============================] - 18s 514ms/step - loss: -39272140.0000 - accuracy: 0.3217 - val_loss: -129785016.0000 - val_accuracy: 0.3226\n",
            "Epoch 6/10\n",
            "35/35 [==============================] - 18s 512ms/step - loss: -172045104.0000 - accuracy: 0.3226 - val_loss: -566437056.0000 - val_accuracy: 0.3226\n",
            "Epoch 7/10\n",
            "35/35 [==============================] - 18s 507ms/step - loss: -411486816.0000 - accuracy: 0.3217 - val_loss: -1680443776.0000 - val_accuracy: 0.3226\n",
            "Epoch 8/10\n",
            "35/35 [==============================] - 18s 513ms/step - loss: -1009851648.0000 - accuracy: 0.3253 - val_loss: -2768874496.0000 - val_accuracy: 0.3226\n",
            "Epoch 9/10\n",
            "35/35 [==============================] - 18s 513ms/step - loss: -2339070976.0000 - accuracy: 0.3226 - val_loss: -5703355392.0000 - val_accuracy: 0.3226\n",
            "Epoch 10/10\n",
            "35/35 [==============================] - 18s 511ms/step - loss: -5119859712.0000 - accuracy: 0.3217 - val_loss: -11901375488.0000 - val_accuracy: 0.3226\n"
          ]
        },
        {
          "output_type": "execute_result",
          "data": {
            "text/plain": [
              "<keras.callbacks.History at 0x7f41cfbd7610>"
            ]
          },
          "metadata": {},
          "execution_count": 74
        }
      ]
    }
  ]
}